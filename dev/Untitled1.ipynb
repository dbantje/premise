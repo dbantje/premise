{
 "cells": [
  {
   "cell_type": "code",
   "execution_count": 1,
   "id": "5018b7ee-0169-49d7-9455-2f1aea562e9e",
   "metadata": {},
   "outputs": [],
   "source": [
    "from premise import *\n",
    "from datapackage import Package\n",
    "import bw2io as bw"
   ]
  },
  {
   "cell_type": "code",
   "execution_count": 2,
   "id": "0ca27c06-948c-4584-bebe-d505cb72d4f9",
   "metadata": {},
   "outputs": [],
   "source": [
    "import bw2data\n",
    "bw2data.projects.set_current(\"ei310\")"
   ]
  },
  {
   "cell_type": "code",
   "execution_count": 3,
   "id": "e408d76b-8288-4661-9089-f8c3f6191743",
   "metadata": {},
   "outputs": [
    {
     "name": "stdout",
     "output_type": "stream",
     "text": [
      "Inventory cache cleared!\n"
     ]
    }
   ],
   "source": [
    "clear_inventory_cache()"
   ]
  },
  {
   "cell_type": "code",
   "execution_count": 3,
   "id": "bee86950-ac96-49e0-8a9c-43920ae26096",
   "metadata": {},
   "outputs": [
    {
     "name": "stdout",
     "output_type": "stream",
     "text": [
      "premise v.(2, 1, 1, 'dev6')\n",
      "+------------------------------------------------------------------+\n",
      "| Warning                                                          |\n",
      "+------------------------------------------------------------------+\n",
      "| Because some of the scenarios can yield LCI databases            |\n",
      "| containing net negative emission technologies (NET),             |\n",
      "| it is advised to account for biogenic CO2 flows when calculating |\n",
      "| Global Warming potential indicators.                             |\n",
      "| `premise_gwp` provides characterization factors for such flows.  |\n",
      "| It also provides factors for hydrogen emissions to air.          |\n",
      "|                                                                  |\n",
      "| Within your bw2 project:                                         |\n",
      "| from premise_gwp import add_premise_gwp                          |\n",
      "| add_premise_gwp()                                                |\n",
      "+------------------------------------------------------------------+\n",
      "+--------------------------------+----------------------------------+\n",
      "| Utils functions                | Description                      |\n",
      "+--------------------------------+----------------------------------+\n",
      "| clear_cache()                  | Clears the cache folder. Useful  |\n",
      "|                                | when updating `premise`or        |\n",
      "|                                | encountering issues with         |\n",
      "|                                | inventories.                     |\n",
      "+--------------------------------+----------------------------------+\n",
      "| get_regions_definition(model)  | Retrieves the list of countries  |\n",
      "|                                | for each region of the model.    |\n",
      "+--------------------------------+----------------------------------+\n",
      "| ndb.NewDatabase(...)           | Generates a summary of the most  |\n",
      "| ndb.generate_scenario_report() | important scenarios' variables.  |\n",
      "+--------------------------------+----------------------------------+\n",
      "Keep uncertainty data?\n",
      "NewDatabase(..., keep_uncertainty_data=True)\n",
      "\n",
      "Hide these messages?\n",
      "NewDatabase(..., quiet=True)\n",
      "- Extracting source database\n",
      "- Extracting inventories\n",
      "- Fetching IAM data\n",
      "Done!\n"
     ]
    }
   ],
   "source": [
    "ndb = NewDatabase(\n",
    "    scenarios=[\n",
    "        #{\"model\":\"remind\", \"pathway\":\"SSP2-Base\", \"year\":2050},\n",
    "        #{\"model\":\"remind\", \"pathway\":\"SSP2-Base\", \"year\":2010},\n",
    "        #{\"model\":\"image\", \"pathway\":\"SSP2-Base\", \"year\":2020},\n",
    "        {\"model\":\"image\", \"pathway\":\"SSP2-Base\", \"year\":2050},\n",
    "        {\"model\":\"remind\", \"pathway\":\"SSP2-Base\", \"year\":2050},\n",
    "        #{\"model\":\"image\", \"pathway\":\"SSP2-Base\", \"year\":2040},\n",
    "        #{\"model\":\"image\", \"pathway\":\"SSP2-Base\", \"year\":2050},\n",
    "        #{\"model\":\"image\", \"pathway\":\"SSP2-Base\", \"year\":2050},\n",
    "    ],\n",
    "    source_db=\"ecoinvent-3.10-cutoff\", # <-- name of the database in the BW2 project. Must be a string.\n",
    "    source_version=\"3.10\", # <-- version of ecoinvent. Can be \"3.5\", \"3.6\", \"3.7\" or \"3.8\". Must be a string.\n",
    "    key=\"tUePmX_S5B8ieZkkM7WUU2CnO8SmShwmAeWK9x2rTFo=\",\n",
    "    biosphere_name=\"ecoinvent-3.10-biosphere\"\n",
    "    #external_scenarios=[FE2050,]\n",
    "    #use_multiprocessing=True,\n",
    "    #system_model=\"consequential\"\n",
    "    # to be requested from the library maintainers if you want to use default scenarios included in `premise`\n",
    ")"
   ]
  },
  {
   "cell_type": "code",
   "execution_count": 4,
   "id": "0c80994c-cbac-4143-81ee-1de1531a6f95",
   "metadata": {},
   "outputs": [
    {
     "name": "stderr",
     "output_type": "stream",
     "text": [
      "Processing scenarios:   0%|                     | 0/2 [00:00<?, ?it/s]"
     ]
    },
    {
     "name": "stdout",
     "output_type": "stream",
     "text": [
      "yes\n",
      "0\n",
      "[]\n"
     ]
    },
    {
     "name": "stderr",
     "output_type": "stream",
     "text": [
      "Processing scenarios:  50%|██████▌      | 1/2 [00:08<00:08,  8.37s/it]"
     ]
    },
    {
     "name": "stdout",
     "output_type": "stream",
     "text": [
      "yes\n",
      "fleet creation\n",
      "13\n",
      "[('transport, freight, train, unspecified', 'CAZ'), ('transport, freight, train, unspecified', 'CHA'), ('transport, freight, train, unspecified', 'EUR'), ('transport, freight, train, unspecified', 'IND'), ('transport, freight, train, unspecified', 'JPN'), ('transport, freight, train, unspecified', 'LAM'), ('transport, freight, train, unspecified', 'MEA'), ('transport, freight, train, unspecified', 'NEU'), ('transport, freight, train, unspecified', 'OAS'), ('transport, freight, train, unspecified', 'REF'), ('transport, freight, train, unspecified', 'SSA'), ('transport, freight, train, unspecified', 'USA'), ('transport, freight, train, unspecified', 'World')]\n"
     ]
    },
    {
     "name": "stderr",
     "output_type": "stream",
     "text": [
      "Processing scenarios: 100%|█████████████| 2/2 [00:16<00:00,  8.28s/it]"
     ]
    },
    {
     "name": "stdout",
     "output_type": "stream",
     "text": [
      "Done!\n",
      "\n"
     ]
    },
    {
     "name": "stderr",
     "output_type": "stream",
     "text": [
      "\n"
     ]
    }
   ],
   "source": [
    "ndb.update(\"trains\")"
   ]
  },
  {
   "cell_type": "code",
   "execution_count": 6,
   "id": "7ad62a83-e253-4ad9-96cf-3245e529480b",
   "metadata": {},
   "outputs": [
    {
     "name": "stdout",
     "output_type": "stream",
     "text": [
      "Generate scenario report.\n",
      "Report saved under /Users/romain/GitHub/premise/dev/export/scenario_report.\n"
     ]
    }
   ],
   "source": [
    "ndb.generate_scenario_report()"
   ]
  },
  {
   "cell_type": "code",
   "execution_count": 5,
   "id": "8edbff61-8a08-4876-80f8-e8eb7eb1c2d5",
   "metadata": {},
   "outputs": [],
   "source": [
    "originals = [\n",
    "    [ds[\"name\"], ds[\"reference product\"], ds[\"location\"]]\n",
    "    for ds in bw2data.Database(\"ecoinvent-3.10-cutoff\")\n",
    "]"
   ]
  },
  {
   "cell_type": "code",
   "execution_count": 5,
   "id": "ae500bd7-bbe7-4620-b50c-700041ca807b",
   "metadata": {},
   "outputs": [],
   "source": [
    "from premise.utils import load_database\n",
    "for scenario in ndb.scenarios:\n",
    "    scenario = load_database(scenario)"
   ]
  },
  {
   "cell_type": "code",
   "execution_count": 6,
   "id": "8d5c6402-f24c-4b51-8a50-b40d13768383",
   "metadata": {},
   "outputs": [
    {
     "name": "stdout",
     "output_type": "stream",
     "text": [
      "40302\n",
      "36592\n"
     ]
    }
   ],
   "source": [
    "print(len(ndb.scenarios[0][\"database\"]))\n",
    "print(len(ndb.scenarios[1][\"database\"]))"
   ]
  },
  {
   "cell_type": "code",
   "execution_count": 7,
   "id": "886ababf-ac54-46b3-9025-85853cafd1bd",
   "metadata": {},
   "outputs": [
    {
     "name": "stdout",
     "output_type": "stream",
     "text": [
      "41933\n",
      "33590\n"
     ]
    }
   ],
   "source": [
    "print(len(ndb.scenarios[0][\"database\"]))\n",
    "print(len(ndb.scenarios[1][\"database\"]))"
   ]
  },
  {
   "cell_type": "code",
   "execution_count": 11,
   "id": "31aa04f4-4aa0-41f4-8f51-9fb48747a9f3",
   "metadata": {},
   "outputs": [],
   "source": [
    "import pandas as pd\n",
    "for scenario in ndb.scenarios:\n",
    "    df = pd.DataFrame(\n",
    "        [\n",
    "            [a[\"name\"], a[\"reference product\"], a[\"location\"]] for a in scenario[\"database\"]\n",
    "            if [a[\"name\"], a[\"reference product\"], a[\"location\"]] not in originals\n",
    "        ]\n",
    "    )\n",
    "    df.to_excel(f\"datasets {scenario['model']}.xlsx\")"
   ]
  },
  {
   "cell_type": "code",
   "execution_count": 5,
   "id": "dff4efb1-69ab-4bd5-8d52-4038df180a85",
   "metadata": {},
   "outputs": [
    {
     "name": "stdout",
     "output_type": "stream",
     "text": [
      "Write new database(s) to Brightway.\n",
      "Running all checks...\n",
      "Minor anomalies found: check the change report.\n"
     ]
    },
    {
     "name": "stderr",
     "output_type": "stream",
     "text": [
      "Writing activities to SQLite3 database:\n",
      "0% [##############################] 100% | ETA: 00:00:00\n",
      "Total time elapsed: 00:00:31\n"
     ]
    },
    {
     "name": "stdout",
     "output_type": "stream",
     "text": [
      "Title: Writing activities to SQLite3 database:\n",
      "  Started: 07/30/2024 16:52:43\n",
      "  Finished: 07/30/2024 16:53:15\n",
      "  Total time elapsed: 00:00:31\n",
      "  CPU %: 90.00\n",
      "  Memory %: 24.23\n",
      "Created database: image - master 4\n",
      "Running all checks...\n",
      "Minor anomalies found: check the change report.\n"
     ]
    },
    {
     "name": "stderr",
     "output_type": "stream",
     "text": [
      "Writing activities to SQLite3 database:\n",
      "0% [##############################] 100% | ETA: 00:00:00\n",
      "Total time elapsed: 00:00:33\n"
     ]
    },
    {
     "name": "stdout",
     "output_type": "stream",
     "text": [
      "Title: Writing activities to SQLite3 database:\n",
      "  Started: 07/30/2024 16:57:59\n",
      "  Finished: 07/30/2024 16:58:33\n",
      "  Total time elapsed: 00:00:33\n",
      "  CPU %: 83.80\n",
      "  Memory %: 7.13\n",
      "Created database: remind - master 4\n",
      "Generate scenario report.\n",
      "Report saved under /Users/romain/GitHub/premise/dev/export/scenario_report.\n",
      "Generate change report.\n",
      "Report saved under /Users/romain/GitHub/premise/dev.\n"
     ]
    }
   ],
   "source": [
    "ndb.write_db_to_brightway([\n",
    "    \"image - master 4\",\n",
    "    \"remind - master 4\"\n",
    "])"
   ]
  },
  {
   "cell_type": "code",
   "execution_count": 10,
   "id": "f637a740-167b-44c2-ae10-b4fccafa8153",
   "metadata": {},
   "outputs": [],
   "source": [
    "import bw2data\n",
    "bw2data.projects.set_current(\"new4\")"
   ]
  },
  {
   "cell_type": "code",
   "execution_count": 11,
   "id": "5d5d3a6a-fd71-451d-b06c-70649130b4de",
   "metadata": {},
   "outputs": [
    {
     "name": "stdout",
     "output_type": "stream",
     "text": [
      "Vacuuming database \n",
      "Vacuuming database \n",
      "Vacuuming database \n",
      "Vacuuming database \n",
      "Vacuuming database \n",
      "Vacuuming database \n",
      "Vacuuming database \n",
      "Vacuuming database \n",
      "Vacuuming database \n",
      "Vacuuming database \n",
      "Vacuuming database \n",
      "Vacuuming database \n",
      "Vacuuming database \n",
      "Vacuuming database \n",
      "Vacuuming database \n",
      "Vacuuming database \n",
      "Vacuuming database \n"
     ]
    }
   ],
   "source": [
    "preserve = [\n",
    "    \"biosphere3\",\n",
    "    \"ecoinvent 3.9.1 cutoff\",\n",
    "    \"ecoinvent 3.9.1 consequential\",\n",
    "    \"ecoinvent EN15804 3.9.1\",\n",
    "    \"ecoinvent 3.6 cutoff\",\n",
    "    \"ecoinvent 3.7 cutoff\",\n",
    "    \"ecoinvent 3.8 cutoff\",\n",
    "    \n",
    "]\n",
    "\n",
    "for db in list(bw2data.databases):\n",
    "    if db not in preserve:\n",
    "        del bw2data.databases[db]"
   ]
  },
  {
   "cell_type": "code",
   "execution_count": 5,
   "id": "1ec96145-c2ff-4609-b292-b501981c178c",
   "metadata": {},
   "outputs": [
    {
     "name": "stdout",
     "output_type": "stream",
     "text": [
      "Write new database(s) to Brightway.\n",
      "Running all checks...\n",
      "Anomalies found: check the change report.\n"
     ]
    },
    {
     "name": "stderr",
     "output_type": "stream",
     "text": [
      "Writing activities to SQLite3 database:\n",
      "0% [##############################] 100% | ETA: 00:00:00\n",
      "Total time elapsed: 00:00:11\n"
     ]
    },
    {
     "name": "stdout",
     "output_type": "stream",
     "text": [
      "Title: Writing activities to SQLite3 database:\n",
      "  Started: 01/23/2024 11:08:19\n",
      "  Finished: 01/23/2024 11:08:31\n",
      "  Total time elapsed: 00:00:11\n",
      "  CPU %: 99.60\n",
      "  Memory %: 7.49\n",
      "Created database: ecoinvent_consequential_3.9_remind_SSP2-Base_2020\n",
      "Generate scenario report.\n",
      "Report saved under /Users/romain/Github/premise/dev/export/scenario_report.\n",
      "Generate change report.\n",
      "Report saved under /Users/romain/Github/premise/dev.\n"
     ]
    }
   ],
   "source": [
    "ndb.write_db_to_brightway()"
   ]
  },
  {
   "cell_type": "code",
   "execution_count": 20,
   "id": "b0f2c77a-da1b-4eec-b247-a1e5549bd2bc",
   "metadata": {},
   "outputs": [],
   "source": [
    "import numpy as np\n",
    "import pandas as pd\n",
    "df = pd.DataFrame(\n",
    "np.hstack(\n",
    "    [ndb.scenarios[0][\"iam data\"].electricity_markets.sel(region=\"EUR\"),\n",
    "    ndb.scenarios[1][\"iam data\"].electricity_markets.sel(region=\"EUR\"),\n",
    "    ndb.scenarios[2][\"iam data\"].electricity_markets.sel(region=\"EUR\"),\n",
    "    ndb.scenarios[3][\"iam data\"].electricity_markets.sel(region=\"EUR\"),]\n",
    "), columns=[2020, 2030, 2040, 2050],)"
   ]
  },
  {
   "cell_type": "code",
   "execution_count": 22,
   "id": "e142fe52-a106-4a17-9293-1ee89b24a9e2",
   "metadata": {},
   "outputs": [],
   "source": [
    "df.index = ['Geothermal', 'Biomass CHP', 'Gas CHP', 'Wind Offshore', 'Coal PC CCS',\n",
    " 'Coal CHP','Gas CC CCS','Gas ST','Oil ST','Coal IGCC','Gas CC','Coal PC',\n",
    " 'Biomass IGCC CCS','Hydro','Storage, Hydrogen','Coal IGCC CCS','Nuclear',\n",
    " 'Wind Onshore','Biomass IGCC','Solar PV Centralized','Solar CSP']"
   ]
  },
  {
   "cell_type": "code",
   "execution_count": 27,
   "id": "e4267255-1b33-41db-bc50-2bc1edb32075",
   "metadata": {},
   "outputs": [
    {
     "data": {
      "text/html": [
       "<div>\n",
       "<style scoped>\n",
       "    .dataframe tbody tr th:only-of-type {\n",
       "        vertical-align: middle;\n",
       "    }\n",
       "\n",
       "    .dataframe tbody tr th {\n",
       "        vertical-align: top;\n",
       "    }\n",
       "\n",
       "    .dataframe thead th {\n",
       "        text-align: right;\n",
       "    }\n",
       "</style>\n",
       "<table border=\"1\" class=\"dataframe\">\n",
       "  <thead>\n",
       "    <tr style=\"text-align: right;\">\n",
       "      <th></th>\n",
       "      <th>2020</th>\n",
       "      <th>2030</th>\n",
       "      <th>2040</th>\n",
       "      <th>2050</th>\n",
       "    </tr>\n",
       "  </thead>\n",
       "  <tbody>\n",
       "    <tr>\n",
       "      <th>Geothermal</th>\n",
       "      <td>0.010695</td>\n",
       "      <td>0.000000</td>\n",
       "      <td>0.000000</td>\n",
       "      <td>-0.000000</td>\n",
       "    </tr>\n",
       "    <tr>\n",
       "      <th>Biomass CHP</th>\n",
       "      <td>0.000000</td>\n",
       "      <td>0.000000</td>\n",
       "      <td>0.000000</td>\n",
       "      <td>0.000000</td>\n",
       "    </tr>\n",
       "    <tr>\n",
       "      <th>Gas CHP</th>\n",
       "      <td>0.000000</td>\n",
       "      <td>0.000000</td>\n",
       "      <td>0.000000</td>\n",
       "      <td>0.000000</td>\n",
       "    </tr>\n",
       "    <tr>\n",
       "      <th>Wind Offshore</th>\n",
       "      <td>0.171123</td>\n",
       "      <td>0.074627</td>\n",
       "      <td>0.138158</td>\n",
       "      <td>0.548193</td>\n",
       "    </tr>\n",
       "    <tr>\n",
       "      <th>Coal PC CCS</th>\n",
       "      <td>0.000000</td>\n",
       "      <td>0.000000</td>\n",
       "      <td>0.000000</td>\n",
       "      <td>-0.000000</td>\n",
       "    </tr>\n",
       "    <tr>\n",
       "      <th>Coal CHP</th>\n",
       "      <td>0.000000</td>\n",
       "      <td>0.000000</td>\n",
       "      <td>0.000000</td>\n",
       "      <td>0.000000</td>\n",
       "    </tr>\n",
       "    <tr>\n",
       "      <th>Gas CC CCS</th>\n",
       "      <td>0.000000</td>\n",
       "      <td>0.000000</td>\n",
       "      <td>0.000000</td>\n",
       "      <td>0.000000</td>\n",
       "    </tr>\n",
       "    <tr>\n",
       "      <th>Gas ST</th>\n",
       "      <td>0.005348</td>\n",
       "      <td>0.007463</td>\n",
       "      <td>0.003289</td>\n",
       "      <td>0.000000</td>\n",
       "    </tr>\n",
       "    <tr>\n",
       "      <th>Oil ST</th>\n",
       "      <td>0.000000</td>\n",
       "      <td>0.000000</td>\n",
       "      <td>0.000000</td>\n",
       "      <td>0.000000</td>\n",
       "    </tr>\n",
       "    <tr>\n",
       "      <th>Coal IGCC</th>\n",
       "      <td>0.000000</td>\n",
       "      <td>0.000000</td>\n",
       "      <td>-0.000000</td>\n",
       "      <td>-0.000000</td>\n",
       "    </tr>\n",
       "    <tr>\n",
       "      <th>Gas CC</th>\n",
       "      <td>0.197861</td>\n",
       "      <td>0.000000</td>\n",
       "      <td>0.000000</td>\n",
       "      <td>0.000000</td>\n",
       "    </tr>\n",
       "    <tr>\n",
       "      <th>Coal PC</th>\n",
       "      <td>0.000000</td>\n",
       "      <td>0.000000</td>\n",
       "      <td>0.000000</td>\n",
       "      <td>0.000000</td>\n",
       "    </tr>\n",
       "    <tr>\n",
       "      <th>Biomass IGCC CCS</th>\n",
       "      <td>0.000000</td>\n",
       "      <td>0.000000</td>\n",
       "      <td>0.000000</td>\n",
       "      <td>0.000000</td>\n",
       "    </tr>\n",
       "    <tr>\n",
       "      <th>Hydro</th>\n",
       "      <td>0.045455</td>\n",
       "      <td>0.000000</td>\n",
       "      <td>0.000000</td>\n",
       "      <td>0.000000</td>\n",
       "    </tr>\n",
       "    <tr>\n",
       "      <th>Storage, Hydrogen</th>\n",
       "      <td>0.000000</td>\n",
       "      <td>0.000000</td>\n",
       "      <td>0.000000</td>\n",
       "      <td>-0.000000</td>\n",
       "    </tr>\n",
       "    <tr>\n",
       "      <th>Coal IGCC CCS</th>\n",
       "      <td>0.000000</td>\n",
       "      <td>0.000000</td>\n",
       "      <td>0.000000</td>\n",
       "      <td>0.000000</td>\n",
       "    </tr>\n",
       "    <tr>\n",
       "      <th>Nuclear</th>\n",
       "      <td>0.000000</td>\n",
       "      <td>0.000000</td>\n",
       "      <td>0.000000</td>\n",
       "      <td>0.000000</td>\n",
       "    </tr>\n",
       "    <tr>\n",
       "      <th>Wind Onshore</th>\n",
       "      <td>0.304813</td>\n",
       "      <td>0.402985</td>\n",
       "      <td>0.473684</td>\n",
       "      <td>0.451807</td>\n",
       "    </tr>\n",
       "    <tr>\n",
       "      <th>Biomass IGCC</th>\n",
       "      <td>0.000000</td>\n",
       "      <td>0.000000</td>\n",
       "      <td>0.000000</td>\n",
       "      <td>0.000000</td>\n",
       "    </tr>\n",
       "    <tr>\n",
       "      <th>Solar PV Centralized</th>\n",
       "      <td>0.264706</td>\n",
       "      <td>0.514925</td>\n",
       "      <td>0.384868</td>\n",
       "      <td>0.000000</td>\n",
       "    </tr>\n",
       "    <tr>\n",
       "      <th>Solar CSP</th>\n",
       "      <td>-0.000000</td>\n",
       "      <td>0.000000</td>\n",
       "      <td>0.000000</td>\n",
       "      <td>0.000000</td>\n",
       "    </tr>\n",
       "  </tbody>\n",
       "</table>\n",
       "</div>"
      ],
      "text/plain": [
       "                          2020      2030      2040      2050\n",
       "Geothermal            0.010695  0.000000  0.000000 -0.000000\n",
       "Biomass CHP           0.000000  0.000000  0.000000  0.000000\n",
       "Gas CHP               0.000000  0.000000  0.000000  0.000000\n",
       "Wind Offshore         0.171123  0.074627  0.138158  0.548193\n",
       "Coal PC CCS           0.000000  0.000000  0.000000 -0.000000\n",
       "Coal CHP              0.000000  0.000000  0.000000  0.000000\n",
       "Gas CC CCS            0.000000  0.000000  0.000000  0.000000\n",
       "Gas ST                0.005348  0.007463  0.003289  0.000000\n",
       "Oil ST                0.000000  0.000000  0.000000  0.000000\n",
       "Coal IGCC             0.000000  0.000000 -0.000000 -0.000000\n",
       "Gas CC                0.197861  0.000000  0.000000  0.000000\n",
       "Coal PC               0.000000  0.000000  0.000000  0.000000\n",
       "Biomass IGCC CCS      0.000000  0.000000  0.000000  0.000000\n",
       "Hydro                 0.045455  0.000000  0.000000  0.000000\n",
       "Storage, Hydrogen     0.000000  0.000000  0.000000 -0.000000\n",
       "Coal IGCC CCS         0.000000  0.000000  0.000000  0.000000\n",
       "Nuclear               0.000000  0.000000  0.000000  0.000000\n",
       "Wind Onshore          0.304813  0.402985  0.473684  0.451807\n",
       "Biomass IGCC          0.000000  0.000000  0.000000  0.000000\n",
       "Solar PV Centralized  0.264706  0.514925  0.384868  0.000000\n",
       "Solar CSP            -0.000000  0.000000  0.000000  0.000000"
      ]
     },
     "execution_count": 27,
     "metadata": {},
     "output_type": "execute_result"
    }
   ],
   "source": [
    "df"
   ]
  },
  {
   "cell_type": "code",
   "execution_count": 5,
   "id": "d192777f-6bf6-48a0-8304-91a2f931156a",
   "metadata": {},
   "outputs": [
    {
     "name": "stdout",
     "output_type": "stream",
     "text": [
      "Generate scenario report.\n",
      "Report saved under /Users/romain/GitHub/premise/dev/export/scenario_report.\n"
     ]
    }
   ],
   "source": [
    "ndb.generate_scenario_report()"
   ]
  },
  {
   "cell_type": "code",
   "execution_count": 4,
   "id": "bb2117d5-3b9d-4d96-85fc-fba0d11941ae",
   "metadata": {},
   "outputs": [
    {
     "name": "stdout",
     "output_type": "stream",
     "text": [
      "Write Simapro import file(s) for OpenLCA.\n",
      "Running all checks...\n",
      "Simapro CSV files saved in /Users/romain/GitHub/premise/dev/export/olca.\n",
      "Generate scenario report.\n",
      "Report saved under /Users/romain/GitHub/premise/dev/export/scenario_report.\n",
      "Generate change report.\n",
      "Report saved under /Users/romain/GitHub/premise/dev.\n"
     ]
    }
   ],
   "source": [
    "ndb."
   ]
  },
  {
   "cell_type": "code",
   "execution_count": 10,
   "id": "7d2e63e8-ad98-4159-b058-807ea4c920f1",
   "metadata": {},
   "outputs": [],
   "source": [
    "import json\n",
    "import os\n",
    "import glob\n",
    "from pprint import pprint\n",
    "\n",
    "#fp=\"/Users/romain/Documents/premise_test/flows\"\n",
    "fp=\"/Users/romain/Documents/test_olca_39_4/flows\"\n",
    "\n",
    "l = []\n",
    "#Load the images from images folder.\n",
    "for f in glob.glob(f'{fp}/*.json'):\n",
    "    with open(f) as fd:\n",
    "     json_data = json.load(fd)\n",
    "     l.append([json_data[\"name\"], json_data[\"category\"], json_data[\"@id\"]])\n",
    "    "
   ]
  },
  {
   "cell_type": "code",
   "execution_count": 11,
   "id": "86c4fe33-da01-408e-9b08-159937ff6280",
   "metadata": {},
   "outputs": [],
   "source": [
    "import pandas as pd\n",
    "pd.DataFrame(l, columns=[\"Source flow\", \"Source category\", \"id\"]).to_excel(\"mapping_source_2.xlsx\")"
   ]
  },
  {
   "cell_type": "code",
   "execution_count": 13,
   "id": "1620d32b-24c2-44a7-b4ad-2f5af4f23b10",
   "metadata": {},
   "outputs": [],
   "source": [
    "import csv\n",
    "\n",
    "\n",
    "fp_in = \"/Users/romain/Documents/flow_mapping_premise4_.csv\"\n",
    "fp_out = \"/Users/romain/Documents/flow_mapping_premise5.csv\"\n",
    "\n",
    "l = []\n",
    "with open(fp_in) as csv_file:\n",
    "    csv_reader = csv.reader(csv_file, delimiter=',')\n",
    "    for r in csv_reader:\n",
    "        l.append(r)\n",
    "    \n",
    "with open(fp_out, 'w', newline='') as file:\n",
    "    writer = csv.writer(file, delimiter=';')\n",
    "    writer.writerows(l)"
   ]
  },
  {
   "cell_type": "code",
   "execution_count": 31,
   "id": "8b40d4d6-f0c2-44cb-86f4-8e3f4a7e1025",
   "metadata": {},
   "outputs": [],
   "source": [
    "import csv\n",
    "\n",
    "\n",
    "fp_in = \"/Users/romain/Downloads/sp_flow_import_map.csv\"\n",
    "fp_out = \"/Users/romain/Downloads/sp_flow_import_map2.csv\"\n",
    "\n",
    "l = []\n",
    "with open(fp_in) as csv_file:\n",
    "    csv_reader = csv.reader(csv_file, delimiter=',')\n",
    "    for r in csv_reader:\n",
    "        l.append(r)\n",
    "    \n",
    "with open(fp_out, 'w', newline='') as file:\n",
    "    writer = csv.writer(file, delimiter=';')\n",
    "    writer.writerows(l)"
   ]
  },
  {
   "cell_type": "code",
   "execution_count": 5,
   "id": "13c42083-25c6-4203-8bd9-733ef6f70344",
   "metadata": {},
   "outputs": [
    {
     "name": "stdout",
     "output_type": "stream",
     "text": [
      "`update_all()` will skip the following steps:\n",
      "update_two_wheelers(), update_cars(), and update_buses()\n",
      "If you want to update these steps, please run them separately afterwards.\n",
      "Extracted 1 worksheets in 4.02 seconds\n",
      "Migrating to 3.8 first\n",
      "Applying strategy: migrate_datasets\n",
      "Applying strategy: migrate_exchanges\n",
      "Applying strategy: migrate_datasets\n",
      "Applying strategy: migrate_exchanges\n",
      "Applying strategy: migrate_datasets\n",
      "Applying strategy: migrate_exchanges\n",
      "Warning: No activities found for Gas ST -- revise mapping.\n",
      "carbon dioxide, captured at wood burning power plant 20 MW post, pipeline 200km, storage 1000m\n",
      "carbon dioxide, captured from hard coal-fired power plant, oxy, pipeline 200km, storage 1000m\n",
      "carbon dioxide, captured from hard coal-fired power plant, post, pipeline 200km, storage 1000m\n",
      "carbon dioxide, captured from hard coal-fired power plant, post, pipeline 400km, storage 1000m\n",
      "carbon dioxide, captured from hard coal-fired power plant, pre, pipeline 200km, storage 1000m\n",
      "carbon dioxide, captured from lignite, oxy, pipeline 200km, storage 1000m\n",
      "carbon dioxide, captured from lignite, post, pipeline 200km, storage 1000m\n",
      "carbon dioxide, captured from lignite, pre, pipeline 200km, storage 1000m\n",
      "carbon dioxide, captured from natural gas, post, 200km pipeline, storage 1000m\n",
      "carbon dioxide, captured from natural gas, post, 400km pipeline, storage 1000m\n",
      "carbon dioxide, captured from natural gas, pre, 200km pipeline, storage 1000m\n",
      "carbon dioxide storage at hydrogen production plant, pre, pipeline 400km, storage 3000m\n",
      "carbon dioxide storage at wood burning power plant 20 MW post, pipeline 200km, storage 1000m\n",
      "carbon dioxide storage at wood burning power plant 20 MW post, pipeline 400km, storage 3000m\n",
      "carbon dioxide storage from hard coal, oxy, pipeline 200km, storage 1000m\n",
      "carbon dioxide storage from hard coal, oxy, pipeline 400km, storage 3000m\n",
      "carbon dioxide storage from hard coal, post, pipeline 200km, storage 1000m\n",
      "carbon dioxide storage from hard coal, post, pipeline 400km, storage 1000m\n",
      "carbon dioxide storage from hard coal, post, pipeline 400km, storage 3000m\n",
      "carbon dioxide storage from hard coal, pre, pipeline 200km, storage 1000m\n",
      "carbon dioxide storage from hard coal, pre, pipeline 400km, storage 3000m\n",
      "carbon dioxide storage from lignite, oxy, pipeline 200km, storage 1000m\n",
      "carbon dioxide storage from lignite, oxy, pipeline 400km, storage 3000m\n",
      "carbon dioxide storage from lignite, post, pipeline 200km, storage 1000m\n",
      "carbon dioxide storage from lignite, post, pipeline 400km, storage 3000m\n",
      "carbon dioxide storage from lignite, pre, pipeline 200km, storage 1000m\n",
      "carbon dioxide storage from lignite, pre, pipeline 400km, storage 3000m\n",
      "carbon dioxide storage from natural gas, post, 200km pipeline, storage 1000m\n",
      "carbon dioxide storage from natural gas, post, 400km pipeline, storage 1000m\n",
      "carbon dioxide storage from natural gas, post, 400km pipeline, storage 3000m\n",
      "carbon dioxide storage from natural gas, pre, 200km pipeline, storage 1000m\n",
      "carbon dioxide storage from natural gas, pre, 400km pipeline, storage 3000m\n",
      "electricity production, at hard coal-fired IGCC power plant\n",
      "electricity production, at hard coal-fired IGCC power plant, pre, pipeline 200km, storage 1000m\n",
      "electricity production, at lignite-fired IGCC power plant\n",
      "electricity production, at lignite-fired IGCC power plant, pre, pipeline 200km, storage 1000m\n",
      "electricity production, at natural gas-fired combined cycle power plant, post, pipeline 200km, storage 1000m\n",
      "electricity production, at wood burning power plant\n",
      "electricity production, at wood burning power plant, post, pipeline 200km, storage 1000m\n",
      "carbon dioxide storage at hydrogen production plant, pre, pipeline 200km, storage 1000m\n",
      "electricity production, at co-generation hard coal-fired power plant, post, pipeline 200km, storage 1000m\n",
      "electricity production, at co-generation wood-fired power plant, post, pipeline 200km, storage 1000m\n",
      "electricity production, at co-generation natural gas-fired power plant, post, pipeline 200km, storage 1000m\n",
      "electricity production, at co-generation oil-fired power plant, post, pipeline 200km, storage 1000m\n",
      "electricity production, at biomass-fired IGCC power plant\n",
      "electricity production, at biomass-fired IGCC power plant, pre, pipeline 200km, storage 1000m\n",
      "Done!\n",
      "Done!\n",
      "Warning: No activities found for CON_LOSSHF -- revise mapping.\n",
      "Warning: No activities found for PP_ENGGAS -- revise mapping.\n",
      "Warning: No activities found for PP_MOD_CCSBIOG -- revise mapping.\n",
      "Warning: No activities found for PP_MOD_CCSHC1 -- revise mapping.\n",
      "Warning: No activities found for TRA_OT_AIRGSL -- revise mapping.\n",
      "Warning: No activities found for TRA_RD_HDTGAS -- revise mapping.\n",
      "Extracted 1 worksheets in 3.79 seconds\n",
      "Migrating to 3.8 first\n",
      "Applying strategy: migrate_datasets\n",
      "Applying strategy: migrate_exchanges\n",
      "Applying strategy: migrate_datasets\n",
      "Applying strategy: migrate_exchanges\n",
      "Applying strategy: migrate_datasets\n",
      "Applying strategy: migrate_exchanges\n",
      "Warning: No activities found for Gas ST -- revise mapping.\n",
      "carbon dioxide, captured at wood burning power plant 20 MW post, pipeline 200km, storage 1000m\n",
      "carbon dioxide, captured from hard coal-fired power plant, oxy, pipeline 200km, storage 1000m\n",
      "carbon dioxide, captured from hard coal-fired power plant, post, pipeline 200km, storage 1000m\n",
      "carbon dioxide, captured from hard coal-fired power plant, post, pipeline 400km, storage 1000m\n",
      "carbon dioxide, captured from hard coal-fired power plant, pre, pipeline 200km, storage 1000m\n",
      "carbon dioxide, captured from lignite, oxy, pipeline 200km, storage 1000m\n",
      "carbon dioxide, captured from lignite, post, pipeline 200km, storage 1000m\n",
      "carbon dioxide, captured from lignite, pre, pipeline 200km, storage 1000m\n",
      "carbon dioxide, captured from natural gas, post, 200km pipeline, storage 1000m\n",
      "carbon dioxide, captured from natural gas, post, 400km pipeline, storage 1000m\n",
      "carbon dioxide, captured from natural gas, pre, 200km pipeline, storage 1000m\n",
      "carbon dioxide storage at hydrogen production plant, pre, pipeline 400km, storage 3000m\n",
      "carbon dioxide storage at wood burning power plant 20 MW post, pipeline 200km, storage 1000m\n",
      "carbon dioxide storage at wood burning power plant 20 MW post, pipeline 400km, storage 3000m\n",
      "carbon dioxide storage from hard coal, oxy, pipeline 200km, storage 1000m\n",
      "carbon dioxide storage from hard coal, oxy, pipeline 400km, storage 3000m\n",
      "carbon dioxide storage from hard coal, post, pipeline 200km, storage 1000m\n",
      "carbon dioxide storage from hard coal, post, pipeline 400km, storage 1000m\n",
      "carbon dioxide storage from hard coal, post, pipeline 400km, storage 3000m\n",
      "carbon dioxide storage from hard coal, pre, pipeline 200km, storage 1000m\n",
      "carbon dioxide storage from hard coal, pre, pipeline 400km, storage 3000m\n",
      "carbon dioxide storage from lignite, oxy, pipeline 200km, storage 1000m\n",
      "carbon dioxide storage from lignite, oxy, pipeline 400km, storage 3000m\n",
      "carbon dioxide storage from lignite, post, pipeline 200km, storage 1000m\n",
      "carbon dioxide storage from lignite, post, pipeline 400km, storage 3000m\n",
      "carbon dioxide storage from lignite, pre, pipeline 200km, storage 1000m\n",
      "carbon dioxide storage from lignite, pre, pipeline 400km, storage 3000m\n",
      "carbon dioxide storage from natural gas, post, 200km pipeline, storage 1000m\n",
      "carbon dioxide storage from natural gas, post, 400km pipeline, storage 1000m\n",
      "carbon dioxide storage from natural gas, post, 400km pipeline, storage 3000m\n",
      "carbon dioxide storage from natural gas, pre, 200km pipeline, storage 1000m\n",
      "carbon dioxide storage from natural gas, pre, 400km pipeline, storage 3000m\n",
      "electricity production, at hard coal-fired IGCC power plant\n",
      "electricity production, at hard coal-fired IGCC power plant, pre, pipeline 200km, storage 1000m\n",
      "electricity production, at lignite-fired IGCC power plant\n",
      "electricity production, at lignite-fired IGCC power plant, pre, pipeline 200km, storage 1000m\n",
      "electricity production, at natural gas-fired combined cycle power plant, post, pipeline 200km, storage 1000m\n",
      "electricity production, at wood burning power plant\n",
      "electricity production, at wood burning power plant, post, pipeline 200km, storage 1000m\n",
      "carbon dioxide storage at hydrogen production plant, pre, pipeline 200km, storage 1000m\n",
      "electricity production, at co-generation hard coal-fired power plant, post, pipeline 200km, storage 1000m\n",
      "electricity production, at co-generation wood-fired power plant, post, pipeline 200km, storage 1000m\n",
      "electricity production, at co-generation natural gas-fired power plant, post, pipeline 200km, storage 1000m\n",
      "electricity production, at co-generation oil-fired power plant, post, pipeline 200km, storage 1000m\n",
      "electricity production, at biomass-fired IGCC power plant\n",
      "electricity production, at biomass-fired IGCC power plant, pre, pipeline 200km, storage 1000m\n",
      "Done!\n",
      "Done!\n",
      "Warning: No activities found for CON_LOSSHF -- revise mapping.\n",
      "Warning: No activities found for PP_ENGGAS -- revise mapping.\n",
      "Warning: No activities found for PP_MOD_CCSBIOG -- revise mapping.\n",
      "Warning: No activities found for PP_MOD_CCSHC1 -- revise mapping.\n",
      "Warning: No activities found for TRA_OT_AIRGSL -- revise mapping.\n",
      "Warning: No activities found for TRA_RD_HDTGAS -- revise mapping.\n",
      "Extracted 1 worksheets in 3.77 seconds\n",
      "Migrating to 3.8 first\n",
      "Applying strategy: migrate_datasets\n",
      "Applying strategy: migrate_exchanges\n",
      "Applying strategy: migrate_datasets\n",
      "Applying strategy: migrate_exchanges\n",
      "Applying strategy: migrate_datasets\n",
      "Applying strategy: migrate_exchanges\n",
      "Warning: No activities found for Gas ST -- revise mapping.\n",
      "carbon dioxide, captured at wood burning power plant 20 MW post, pipeline 200km, storage 1000m\n",
      "carbon dioxide, captured from hard coal-fired power plant, oxy, pipeline 200km, storage 1000m\n",
      "carbon dioxide, captured from hard coal-fired power plant, post, pipeline 200km, storage 1000m\n",
      "carbon dioxide, captured from hard coal-fired power plant, post, pipeline 400km, storage 1000m\n",
      "carbon dioxide, captured from hard coal-fired power plant, pre, pipeline 200km, storage 1000m\n",
      "carbon dioxide, captured from lignite, oxy, pipeline 200km, storage 1000m\n",
      "carbon dioxide, captured from lignite, post, pipeline 200km, storage 1000m\n",
      "carbon dioxide, captured from lignite, pre, pipeline 200km, storage 1000m\n",
      "carbon dioxide, captured from natural gas, post, 200km pipeline, storage 1000m\n",
      "carbon dioxide, captured from natural gas, post, 400km pipeline, storage 1000m\n",
      "carbon dioxide, captured from natural gas, pre, 200km pipeline, storage 1000m\n",
      "carbon dioxide storage at hydrogen production plant, pre, pipeline 400km, storage 3000m\n",
      "carbon dioxide storage at wood burning power plant 20 MW post, pipeline 200km, storage 1000m\n",
      "carbon dioxide storage at wood burning power plant 20 MW post, pipeline 400km, storage 3000m\n",
      "carbon dioxide storage from hard coal, oxy, pipeline 200km, storage 1000m\n",
      "carbon dioxide storage from hard coal, oxy, pipeline 400km, storage 3000m\n",
      "carbon dioxide storage from hard coal, post, pipeline 200km, storage 1000m\n",
      "carbon dioxide storage from hard coal, post, pipeline 400km, storage 1000m\n",
      "carbon dioxide storage from hard coal, post, pipeline 400km, storage 3000m\n",
      "carbon dioxide storage from hard coal, pre, pipeline 200km, storage 1000m\n",
      "carbon dioxide storage from hard coal, pre, pipeline 400km, storage 3000m\n",
      "carbon dioxide storage from lignite, oxy, pipeline 200km, storage 1000m\n",
      "carbon dioxide storage from lignite, oxy, pipeline 400km, storage 3000m\n",
      "carbon dioxide storage from lignite, post, pipeline 200km, storage 1000m\n",
      "carbon dioxide storage from lignite, post, pipeline 400km, storage 3000m\n",
      "carbon dioxide storage from lignite, pre, pipeline 200km, storage 1000m\n",
      "carbon dioxide storage from lignite, pre, pipeline 400km, storage 3000m\n",
      "carbon dioxide storage from natural gas, post, 200km pipeline, storage 1000m\n",
      "carbon dioxide storage from natural gas, post, 400km pipeline, storage 1000m\n",
      "carbon dioxide storage from natural gas, post, 400km pipeline, storage 3000m\n",
      "carbon dioxide storage from natural gas, pre, 200km pipeline, storage 1000m\n",
      "carbon dioxide storage from natural gas, pre, 400km pipeline, storage 3000m\n",
      "electricity production, at hard coal-fired IGCC power plant\n",
      "electricity production, at hard coal-fired IGCC power plant, pre, pipeline 200km, storage 1000m\n",
      "electricity production, at lignite-fired IGCC power plant\n",
      "electricity production, at lignite-fired IGCC power plant, pre, pipeline 200km, storage 1000m\n",
      "electricity production, at natural gas-fired combined cycle power plant, post, pipeline 200km, storage 1000m\n",
      "electricity production, at wood burning power plant\n",
      "electricity production, at wood burning power plant, post, pipeline 200km, storage 1000m\n",
      "carbon dioxide storage at hydrogen production plant, pre, pipeline 200km, storage 1000m\n",
      "electricity production, at co-generation hard coal-fired power plant, post, pipeline 200km, storage 1000m\n",
      "electricity production, at co-generation wood-fired power plant, post, pipeline 200km, storage 1000m\n",
      "electricity production, at co-generation natural gas-fired power plant, post, pipeline 200km, storage 1000m\n",
      "electricity production, at co-generation oil-fired power plant, post, pipeline 200km, storage 1000m\n",
      "electricity production, at biomass-fired IGCC power plant\n",
      "electricity production, at biomass-fired IGCC power plant, pre, pipeline 200km, storage 1000m\n",
      "Done!\n",
      "Done!\n",
      "Warning: No activities found for CON_LOSSHF -- revise mapping.\n",
      "Warning: No activities found for PP_ENGGAS -- revise mapping.\n",
      "Warning: No activities found for PP_MOD_CCSBIOG -- revise mapping.\n",
      "Warning: No activities found for PP_MOD_CCSHC1 -- revise mapping.\n",
      "Warning: No activities found for TRA_OT_AIRGSL -- revise mapping.\n",
      "Warning: No activities found for TRA_RD_HDTGAS -- revise mapping.\n",
      "Extracted 1 worksheets in 3.96 seconds\n",
      "Migrating to 3.8 first\n",
      "Applying strategy: migrate_datasets\n",
      "Applying strategy: migrate_exchanges\n",
      "Applying strategy: migrate_datasets\n",
      "Applying strategy: migrate_exchanges\n",
      "Applying strategy: migrate_datasets\n",
      "Applying strategy: migrate_exchanges\n",
      "Warning: No activities found for Gas ST -- revise mapping.\n",
      "carbon dioxide, captured at wood burning power plant 20 MW post, pipeline 200km, storage 1000m\n",
      "carbon dioxide, captured from hard coal-fired power plant, oxy, pipeline 200km, storage 1000m\n",
      "carbon dioxide, captured from hard coal-fired power plant, post, pipeline 200km, storage 1000m\n",
      "carbon dioxide, captured from hard coal-fired power plant, post, pipeline 400km, storage 1000m\n",
      "carbon dioxide, captured from hard coal-fired power plant, pre, pipeline 200km, storage 1000m\n",
      "carbon dioxide, captured from lignite, oxy, pipeline 200km, storage 1000m\n",
      "carbon dioxide, captured from lignite, post, pipeline 200km, storage 1000m\n",
      "carbon dioxide, captured from lignite, pre, pipeline 200km, storage 1000m\n",
      "carbon dioxide, captured from natural gas, post, 200km pipeline, storage 1000m\n",
      "carbon dioxide, captured from natural gas, post, 400km pipeline, storage 1000m\n",
      "carbon dioxide, captured from natural gas, pre, 200km pipeline, storage 1000m\n",
      "carbon dioxide storage at hydrogen production plant, pre, pipeline 400km, storage 3000m\n",
      "carbon dioxide storage at wood burning power plant 20 MW post, pipeline 200km, storage 1000m\n",
      "carbon dioxide storage at wood burning power plant 20 MW post, pipeline 400km, storage 3000m\n",
      "carbon dioxide storage from hard coal, oxy, pipeline 200km, storage 1000m\n",
      "carbon dioxide storage from hard coal, oxy, pipeline 400km, storage 3000m\n",
      "carbon dioxide storage from hard coal, post, pipeline 200km, storage 1000m\n",
      "carbon dioxide storage from hard coal, post, pipeline 400km, storage 1000m\n",
      "carbon dioxide storage from hard coal, post, pipeline 400km, storage 3000m\n",
      "carbon dioxide storage from hard coal, pre, pipeline 200km, storage 1000m\n",
      "carbon dioxide storage from hard coal, pre, pipeline 400km, storage 3000m\n",
      "carbon dioxide storage from lignite, oxy, pipeline 200km, storage 1000m\n",
      "carbon dioxide storage from lignite, oxy, pipeline 400km, storage 3000m\n",
      "carbon dioxide storage from lignite, post, pipeline 200km, storage 1000m\n",
      "carbon dioxide storage from lignite, post, pipeline 400km, storage 3000m\n",
      "carbon dioxide storage from lignite, pre, pipeline 200km, storage 1000m\n",
      "carbon dioxide storage from lignite, pre, pipeline 400km, storage 3000m\n",
      "carbon dioxide storage from natural gas, post, 200km pipeline, storage 1000m\n",
      "carbon dioxide storage from natural gas, post, 400km pipeline, storage 1000m\n",
      "carbon dioxide storage from natural gas, post, 400km pipeline, storage 3000m\n",
      "carbon dioxide storage from natural gas, pre, 200km pipeline, storage 1000m\n",
      "carbon dioxide storage from natural gas, pre, 400km pipeline, storage 3000m\n",
      "electricity production, at hard coal-fired IGCC power plant\n",
      "electricity production, at hard coal-fired IGCC power plant, pre, pipeline 200km, storage 1000m\n",
      "electricity production, at lignite-fired IGCC power plant\n",
      "electricity production, at lignite-fired IGCC power plant, pre, pipeline 200km, storage 1000m\n",
      "electricity production, at natural gas-fired combined cycle power plant, post, pipeline 200km, storage 1000m\n",
      "electricity production, at wood burning power plant\n",
      "electricity production, at wood burning power plant, post, pipeline 200km, storage 1000m\n",
      "carbon dioxide storage at hydrogen production plant, pre, pipeline 200km, storage 1000m\n",
      "electricity production, at co-generation hard coal-fired power plant, post, pipeline 200km, storage 1000m\n",
      "electricity production, at co-generation wood-fired power plant, post, pipeline 200km, storage 1000m\n",
      "electricity production, at co-generation natural gas-fired power plant, post, pipeline 200km, storage 1000m\n",
      "electricity production, at co-generation oil-fired power plant, post, pipeline 200km, storage 1000m\n",
      "electricity production, at biomass-fired IGCC power plant\n",
      "electricity production, at biomass-fired IGCC power plant, pre, pipeline 200km, storage 1000m\n",
      "Done!\n",
      "Done!\n",
      "Warning: No activities found for CON_LOSSHF -- revise mapping.\n",
      "Warning: No activities found for PP_ENGGAS -- revise mapping.\n",
      "Warning: No activities found for PP_MOD_CCSBIOG -- revise mapping.\n",
      "Warning: No activities found for PP_MOD_CCSHC1 -- revise mapping.\n",
      "Warning: No activities found for TRA_OT_AIRGSL -- revise mapping.\n",
      "Warning: No activities found for TRA_RD_HDTGAS -- revise mapping.\n",
      "Done!\n",
      "\n"
     ]
    }
   ],
   "source": [
    "ndb.update_all()"
   ]
  },
  {
   "cell_type": "code",
   "execution_count": 4,
   "id": "45e5ea3d-648a-48e1-a42b-98bfae378f5e",
   "metadata": {},
   "outputs": [
    {
     "name": "stdout",
     "output_type": "stream",
     "text": [
      "premise v.(1, 5, 0, 'beta', 3)\n",
      "+------------------------------------------------------------------+\n",
      "| Warning                                                          |\n",
      "+------------------------------------------------------------------+\n",
      "| Because some of the scenarios can yield LCI databases            |\n",
      "| containing net negative emission technologies (NET),             |\n",
      "| it is advised to account for biogenic CO2 flows when calculating |\n",
      "| Global Warming potential indicators.                             |\n",
      "| `premise_gwp` provides characterization factors for such flows.  |\n",
      "| It also provides factors for hydrogen emissions to air.          |\n",
      "|                                                                  |\n",
      "| Within your bw2 project:                                         |\n",
      "| from premise_gwp import add_premise_gwp                          |\n",
      "| add_premise_gwp()                                                |\n",
      "+------------------------------------------------------------------+\n",
      "+--------------------------------+----------------------------------+\n",
      "| Utils functions                | Description                      |\n",
      "+--------------------------------+----------------------------------+\n",
      "| clear_cache()                  | Clears the cache folder. Useful  |\n",
      "|                                | when updating `premise`or        |\n",
      "|                                | encountering issues with         |\n",
      "|                                | inventories.                     |\n",
      "+--------------------------------+----------------------------------+\n",
      "| get_regions_definition(model)  | Retrieves the list of countries  |\n",
      "|                                | for each region of the model.    |\n",
      "+--------------------------------+----------------------------------+\n",
      "| ndb.NewDatabase(...)           | Generates a summary of the most  |\n",
      "| ndb.generate_scenario_report() | important scenarios' variables.  |\n",
      "+--------------------------------+----------------------------------+\n",
      "Keep uncertainty data?\n",
      "NewDatabase(..., keep_uncertainty_data=True)\n",
      "\n",
      "Hide these messages?\n",
      "NewDatabase(..., quiet=True)\n",
      "\n",
      "//////////////////// EXTRACTING SOURCE DATABASE ////////////////////\n",
      "Done!\n",
      "\n",
      "////////////////// IMPORTING DEFAULT INVENTORIES ///////////////////\n",
      "Done!\n",
      "\n",
      "/////////////////////// EXTRACTING IAM DATA ////////////////////////\n",
      "Done!\n"
     ]
    }
   ],
   "source": [
    "scenarios = [\n",
    "    {\"model\": \"remind\", \"pathway\":\"SSP1-Base\", \"year\": 2050},\n",
    "    {\"model\": \"remind\", \"pathway\":\"SSP1-NDC\", \"year\": 2050},\n",
    "    #{\"model\": \"remind\", \"pathway\":\"SSP1-NPi\", \"year\": 2050},\n",
    "    #{\"model\": \"remind\", \"pathway\":\"SSP1-PkBudg1150\", \"year\": 2050},\n",
    "    #{\"model\": \"remind\", \"pathway\":\"SSP1-PkBudg500\", \"year\": 2050},\n",
    "    #{\"model\": \"remind\", \"pathway\":\"SSP5-Base\", \"year\": 2050},\n",
    "    #{\"model\": \"remind\", \"pathway\":\"SSP5-NDC\", \"year\": 2050},\n",
    "    #{\"model\": \"remind\", \"pathway\":\"SSP5-NPi\", \"year\": 2050},\n",
    "    #{\"model\": \"remind\", \"pathway\":\"SSP5-PkBudg1150\", \"year\": 2050},\n",
    "    #{\"model\": \"remind\", \"pathway\":\"SSP5-PkBudg500\", \"year\": 2050},\n",
    "]\n",
    "\n",
    "ndb = NewDatabase(\n",
    "        scenarios = scenarios,        \n",
    "        source_db=\"ecoinvent 3.9 cutoff\",\n",
    "        source_version=\"3.9\",\n",
    "        key='tUePmX_S5B8ieZkkM7WUU2CnO8SmShwmAeWK9x2rTFo=',\n",
    ")\n"
   ]
  },
  {
   "cell_type": "code",
   "execution_count": null,
   "id": "6c06ea89-5292-485d-a2f9-c334c7f90e61",
   "metadata": {},
   "outputs": [
    {
     "name": "stdout",
     "output_type": "stream",
     "text": [
      "`update_all()` will skip the following steps:\n",
      "update_two_wheelers(), update_cars(), and update_buses()\n",
      "If you want to update these steps, please run them separately afterwards.\n",
      "\n",
      "////////////////// MEDIUM AND HEAVY DUTY TRUCKS ////////////////////\n",
      "Extracted 1 worksheets in 3.92 seconds\n",
      "Applying strategy: migrate_datasets\n",
      "Applying strategy: migrate_exchanges\n",
      "Create fleet average vehicles...\n",
      "Done!\n",
      "Extracted 1 worksheets in 3.96 seconds\n",
      "Applying strategy: migrate_datasets\n",
      "Applying strategy: migrate_exchanges\n",
      "Create fleet average vehicles...\n",
      "Done!\n",
      "\n",
      "/////////////////////////// ELECTRICITY ////////////////////////////\n",
      "Update natural gas extraction datasets.\n",
      "Update efficiency of solar PV panels.\n",
      "Create biomass markets.\n",
      "Replace biomass inputs.\n",
      "Create region-specific power plants.\n",
      "Empty old electricity datasets\n",
      "Create high voltage markets.\n",
      "Create medium voltage markets.\n",
      "Create low voltage markets.\n",
      "Done!\n",
      "Adjust efficiency of power plants...\n",
      "Rescale inventories and emissions for Oil CHP CCS\n",
      "Rescale inventories and emissions for Gas CHP\n",
      "Rescale inventories and emissions for Oil CC CCS\n",
      "Rescale inventories and emissions for Gas CC CCS\n",
      "Rescale inventories and emissions for Gas CC\n",
      "Rescale inventories and emissions for Gas CHP CCS\n",
      "Rescale inventories and emissions for Coal CHP CCS\n",
      "Rescale inventories and emissions for Biomass IGCC CCS\n",
      "Rescale inventories and emissions for Coal PC\n",
      "Rescale inventories and emissions for Coal IGCC\n",
      "Rescale inventories and emissions for Oil ST\n",
      "Rescale inventories and emissions for Biomass CHP CCS\n",
      "Rescale inventories and emissions for Oil CC\n",
      "Rescale inventories and emissions for Biomass ST\n",
      "Rescale inventories and emissions for Gas OC\n",
      "Rescale inventories and emissions for Biomass IGCC\n",
      "Rescale inventories and emissions for Biomass CHP\n",
      "Rescale inventories and emissions for Nuclear\n",
      "Rescale inventories and emissions for Coal CHP\n",
      "Rescale inventories and emissions for Oil CHP\n",
      "Rescale inventories and emissions for Coal IGCC CCS\n",
      "Update natural gas extraction datasets.\n",
      "Update efficiency of solar PV panels.\n",
      "Create biomass markets.\n"
     ]
    }
   ],
   "source": [
    "ndb.update_all()"
   ]
  },
  {
   "cell_type": "code",
   "execution_count": 5,
   "id": "9a903437-dffc-4ba6-95fe-e643de14e252",
   "metadata": {},
   "outputs": [
    {
     "name": "stdout",
     "output_type": "stream",
     "text": [
      "Prepare database 1.\n",
      "- check for duplicates...\n",
      "- check for values format...\n",
      "- relinking exchanges...\n",
      "Done!\n",
      "Prepare database 2.\n",
      "- check for duplicates...\n",
      "One or multiple duplicates detected. Removing them...\n",
      "- check for values format...\n",
      "- relinking exchanges...\n",
      "Done!\n",
      "Building superstructure database...\n",
      "Dropped 0 duplicate(s).\n",
      "Scenario difference file exported to C:\\Users\\sacchi_r\\Documents\\GitHub\\premise\\dev\\export\\scenario diff files!\n",
      "Done!\n",
      "Database test already exists: it will be overwritten.\n",
      "Vacuuming database \n"
     ]
    },
    {
     "name": "stderr",
     "output_type": "stream",
     "text": [
      "Writing activities to SQLite3 database:\n",
      "0% [##############################] 100% | ETA: 00:00:00\n",
      "Total time elapsed: 00:03:18\n"
     ]
    },
    {
     "name": "stdout",
     "output_type": "stream",
     "text": [
      "Title: Writing activities to SQLite3 database:\n",
      "  Started: 04/25/2023 15:30:25\n",
      "  Finished: 04/25/2023 15:33:44\n",
      "  Total time elapsed: 00:03:18\n",
      "  CPU %: 47.50\n",
      "  Memory %: 20.76\n",
      "Created database: test\n",
      "Generate scenario report.\n",
      "Report saved under C:\\Users\\sacchi_r\\Documents\\GitHub\\premise\\dev\\export\\scenario_report.\n",
      "Generate change report.\n",
      "Report saved under C:\\Users\\sacchi_r\\Documents\\GitHub\\premise\\dev.\n"
     ]
    }
   ],
   "source": [
    "ndb.write_superstructure_db_to_brightway(\"test\")"
   ]
  },
  {
   "cell_type": "code",
   "execution_count": null,
   "id": "95ddd192",
   "metadata": {},
   "outputs": [],
   "source": [
    "bw.BW2Package.export_obj(bw.Database(\"test\"))"
   ]
  },
  {
   "cell_type": "code",
   "execution_count": null,
   "id": "adaba766",
   "metadata": {},
   "outputs": [],
   "source": []
  },
  {
   "cell_type": "code",
   "execution_count": 12,
   "id": "283a8495",
   "metadata": {},
   "outputs": [
    {
     "name": "stdout",
     "output_type": "stream",
     "text": [
      "1 steel production, converter, low-alloyed carbon capture rate 0.32385427287335683 <class 'numpy.ndarray'> 0.32385427287335683\n",
      "1 steel production, converter, low-alloyed carbon capture rate 0.3291185194766986 <class 'numpy.ndarray'> 0.3291185194766986\n",
      "1 clinker production carbon capture rate 0.1943758528699487 <class 'numpy.ndarray'> 0.1943758528699487\n",
      "1 steel production, electric, low-alloyed carbon capture rate 0.32385427287335683 <class 'numpy.ndarray'> 0.32385427287335683\n",
      "1 steel production, electric, chromium steel 18/8 carbon capture rate 0.29523698636026985 <class 'numpy.ndarray'> 0.29523698636026985\n",
      "1 clinker production carbon capture rate 0.24319537977722694 <class 'numpy.ndarray'> 0.24319537977722694\n",
      "1 steel production, converter, unalloyed carbon capture rate 0.33678855173579003 <class 'numpy.ndarray'> 0.33678855173579003\n",
      "1 steel production, electric, low-alloyed carbon capture rate 0.38512890276970757 <class 'numpy.ndarray'> 0.38512890276970757\n",
      "1 steel production, electric, chromium steel 18/8 carbon capture rate 0.3473241350402312 <class 'numpy.ndarray'> 0.3473241350402312\n"
     ]
    },
    {
     "ename": "KeyboardInterrupt",
     "evalue": "",
     "output_type": "error",
     "traceback": [
      "\u001b[1;31m---------------------------------------------------------------------------\u001b[0m",
      "\u001b[1;31mKeyboardInterrupt\u001b[0m                         Traceback (most recent call last)",
      "\u001b[1;32m~\\AppData\\Local\\Temp/ipykernel_20348/44398783.py\u001b[0m in \u001b[0;36m<module>\u001b[1;34m\u001b[0m\n\u001b[0;32m     18\u001b[0m                     \u001b[0mprint\u001b[0m\u001b[1;33m(\u001b[0m\u001b[1;34m\"1\"\u001b[0m\u001b[1;33m,\u001b[0m \u001b[0mdataset\u001b[0m\u001b[1;33m[\u001b[0m\u001b[1;34m\"name\"\u001b[0m\u001b[1;33m]\u001b[0m\u001b[1;33m,\u001b[0m \u001b[0mi\u001b[0m\u001b[1;33m,\u001b[0m \u001b[0mj\u001b[0m\u001b[1;33m,\u001b[0m \u001b[0mtype\u001b[0m\u001b[1;33m(\u001b[0m\u001b[0mj\u001b[0m\u001b[1;33m)\u001b[0m\u001b[1;33m,\u001b[0m \u001b[0mfloat\u001b[0m\u001b[1;33m(\u001b[0m\u001b[0mj\u001b[0m\u001b[1;33m)\u001b[0m\u001b[1;33m)\u001b[0m\u001b[1;33m\u001b[0m\u001b[1;33m\u001b[0m\u001b[0m\n\u001b[0;32m     19\u001b[0m \u001b[1;33m\u001b[0m\u001b[0m\n\u001b[1;32m---> 20\u001b[1;33m     \u001b[1;32mfor\u001b[0m \u001b[0me\u001b[0m \u001b[1;32min\u001b[0m \u001b[0mdataset\u001b[0m\u001b[1;33m.\u001b[0m\u001b[0mexchanges\u001b[0m\u001b[1;33m(\u001b[0m\u001b[1;33m)\u001b[0m\u001b[1;33m:\u001b[0m\u001b[1;33m\u001b[0m\u001b[1;33m\u001b[0m\u001b[0m\n\u001b[0m\u001b[0;32m     21\u001b[0m         \u001b[1;32mfor\u001b[0m \u001b[0mk\u001b[0m\u001b[1;33m,\u001b[0m \u001b[0mv\u001b[0m \u001b[1;32min\u001b[0m \u001b[0me\u001b[0m\u001b[1;33m.\u001b[0m\u001b[0mitems\u001b[0m\u001b[1;33m(\u001b[0m\u001b[1;33m)\u001b[0m\u001b[1;33m:\u001b[0m\u001b[1;33m\u001b[0m\u001b[1;33m\u001b[0m\u001b[0m\n\u001b[0;32m     22\u001b[0m             \u001b[1;32mif\u001b[0m \u001b[0misinstance\u001b[0m\u001b[1;33m(\u001b[0m\u001b[0mv\u001b[0m\u001b[1;33m,\u001b[0m \u001b[0mnp\u001b[0m\u001b[1;33m.\u001b[0m\u001b[0mfloat64\u001b[0m\u001b[1;33m)\u001b[0m\u001b[1;33m:\u001b[0m\u001b[1;33m\u001b[0m\u001b[1;33m\u001b[0m\u001b[0m\n",
      "\u001b[1;32m~\\AppData\\Local\\Continuum\\miniconda3\\envs\\main_env\\lib\\site-packages\\bw2data\\backends\\peewee\\proxies.py\u001b[0m in \u001b[0;36m__iter__\u001b[1;34m(self)\u001b[0m\n\u001b[0;32m     74\u001b[0m \u001b[1;33m\u001b[0m\u001b[0m\n\u001b[0;32m     75\u001b[0m     \u001b[1;32mdef\u001b[0m \u001b[0m__iter__\u001b[0m\u001b[1;33m(\u001b[0m\u001b[0mself\u001b[0m\u001b[1;33m)\u001b[0m\u001b[1;33m:\u001b[0m\u001b[1;33m\u001b[0m\u001b[1;33m\u001b[0m\u001b[0m\n\u001b[1;32m---> 76\u001b[1;33m         \u001b[1;32mfor\u001b[0m \u001b[0mobj\u001b[0m \u001b[1;32min\u001b[0m \u001b[0mself\u001b[0m\u001b[1;33m.\u001b[0m\u001b[0m_get_queryset\u001b[0m\u001b[1;33m(\u001b[0m\u001b[1;33m)\u001b[0m\u001b[1;33m:\u001b[0m\u001b[1;33m\u001b[0m\u001b[1;33m\u001b[0m\u001b[0m\n\u001b[0m\u001b[0;32m     77\u001b[0m             \u001b[1;32myield\u001b[0m \u001b[0mExchange\u001b[0m\u001b[1;33m(\u001b[0m\u001b[0mobj\u001b[0m\u001b[1;33m)\u001b[0m\u001b[1;33m\u001b[0m\u001b[1;33m\u001b[0m\u001b[0m\n\u001b[0;32m     78\u001b[0m \u001b[1;33m\u001b[0m\u001b[0m\n",
      "\u001b[1;32m~\\AppData\\Local\\Continuum\\miniconda3\\envs\\main_env\\lib\\site-packages\\peewee.py\u001b[0m in \u001b[0;36mnext\u001b[1;34m(self)\u001b[0m\n\u001b[0;32m   4376\u001b[0m             \u001b[0mobj\u001b[0m \u001b[1;33m=\u001b[0m \u001b[0mself\u001b[0m\u001b[1;33m.\u001b[0m\u001b[0mcursor_wrapper\u001b[0m\u001b[1;33m.\u001b[0m\u001b[0mrow_cache\u001b[0m\u001b[1;33m[\u001b[0m\u001b[0mself\u001b[0m\u001b[1;33m.\u001b[0m\u001b[0mindex\u001b[0m\u001b[1;33m]\u001b[0m\u001b[1;33m\u001b[0m\u001b[1;33m\u001b[0m\u001b[0m\n\u001b[0;32m   4377\u001b[0m         \u001b[1;32melif\u001b[0m \u001b[1;32mnot\u001b[0m \u001b[0mself\u001b[0m\u001b[1;33m.\u001b[0m\u001b[0mcursor_wrapper\u001b[0m\u001b[1;33m.\u001b[0m\u001b[0mpopulated\u001b[0m\u001b[1;33m:\u001b[0m\u001b[1;33m\u001b[0m\u001b[1;33m\u001b[0m\u001b[0m\n\u001b[1;32m-> 4378\u001b[1;33m             \u001b[0mself\u001b[0m\u001b[1;33m.\u001b[0m\u001b[0mcursor_wrapper\u001b[0m\u001b[1;33m.\u001b[0m\u001b[0miterate\u001b[0m\u001b[1;33m(\u001b[0m\u001b[1;33m)\u001b[0m\u001b[1;33m\u001b[0m\u001b[1;33m\u001b[0m\u001b[0m\n\u001b[0m\u001b[0;32m   4379\u001b[0m             \u001b[0mobj\u001b[0m \u001b[1;33m=\u001b[0m \u001b[0mself\u001b[0m\u001b[1;33m.\u001b[0m\u001b[0mcursor_wrapper\u001b[0m\u001b[1;33m.\u001b[0m\u001b[0mrow_cache\u001b[0m\u001b[1;33m[\u001b[0m\u001b[0mself\u001b[0m\u001b[1;33m.\u001b[0m\u001b[0mindex\u001b[0m\u001b[1;33m]\u001b[0m\u001b[1;33m\u001b[0m\u001b[1;33m\u001b[0m\u001b[0m\n\u001b[0;32m   4380\u001b[0m         \u001b[1;32melse\u001b[0m\u001b[1;33m:\u001b[0m\u001b[1;33m\u001b[0m\u001b[1;33m\u001b[0m\u001b[0m\n",
      "\u001b[1;32m~\\AppData\\Local\\Continuum\\miniconda3\\envs\\main_env\\lib\\site-packages\\peewee.py\u001b[0m in \u001b[0;36miterate\u001b[1;34m(self, cache)\u001b[0m\n\u001b[0;32m   4286\u001b[0m \u001b[1;33m\u001b[0m\u001b[0m\n\u001b[0;32m   4287\u001b[0m     \u001b[1;32mdef\u001b[0m \u001b[0miterate\u001b[0m\u001b[1;33m(\u001b[0m\u001b[0mself\u001b[0m\u001b[1;33m,\u001b[0m \u001b[0mcache\u001b[0m\u001b[1;33m=\u001b[0m\u001b[1;32mTrue\u001b[0m\u001b[1;33m)\u001b[0m\u001b[1;33m:\u001b[0m\u001b[1;33m\u001b[0m\u001b[1;33m\u001b[0m\u001b[0m\n\u001b[1;32m-> 4288\u001b[1;33m         \u001b[0mrow\u001b[0m \u001b[1;33m=\u001b[0m \u001b[0mself\u001b[0m\u001b[1;33m.\u001b[0m\u001b[0mcursor\u001b[0m\u001b[1;33m.\u001b[0m\u001b[0mfetchone\u001b[0m\u001b[1;33m(\u001b[0m\u001b[1;33m)\u001b[0m\u001b[1;33m\u001b[0m\u001b[1;33m\u001b[0m\u001b[0m\n\u001b[0m\u001b[0;32m   4289\u001b[0m         \u001b[1;32mif\u001b[0m \u001b[0mrow\u001b[0m \u001b[1;32mis\u001b[0m \u001b[1;32mNone\u001b[0m\u001b[1;33m:\u001b[0m\u001b[1;33m\u001b[0m\u001b[1;33m\u001b[0m\u001b[0m\n\u001b[0;32m   4290\u001b[0m             \u001b[0mself\u001b[0m\u001b[1;33m.\u001b[0m\u001b[0mpopulated\u001b[0m \u001b[1;33m=\u001b[0m \u001b[1;32mTrue\u001b[0m\u001b[1;33m\u001b[0m\u001b[1;33m\u001b[0m\u001b[0m\n",
      "\u001b[1;31mKeyboardInterrupt\u001b[0m: "
     ]
    }
   ],
   "source": [
    "import numpy as np\n",
    "for dataset in bw.Database(\"test\"):\n",
    "    #for exc in dataset.exchanges():\n",
    "    #    if not isinstance(exc[\"amount\"], float):\n",
    "    #        print(dataset[\"name\"], type(exc[\"amount\"]))\n",
    "\n",
    "    #    if isinstance(exc[\"amount\"], np.float64):\n",
    "    #        print(dataset[\"name\"], type(exc[\"amount\"]))\n",
    "\n",
    "    for k, v in dataset.items():\n",
    "        if isinstance(v, dict):\n",
    "            for i, j in v.items():\n",
    "                if isinstance(j, np.float64):\n",
    "                    #continue\n",
    "                    print(i, j)\n",
    "                    \n",
    "                if not type(j) in [str, float, int, tuple, list, dict, bool, None]:\n",
    "                    print(\"1\", dataset[\"name\"], i, j, type(j), float(j))\n",
    "\n",
    "    for e in dataset.exchanges():\n",
    "        for k, v in e.items():\n",
    "            if isinstance(v, np.float64):\n",
    "                #continue\n",
    "                print(k, v)\n",
    "                \n",
    "            if not type(v) in [str, float, int, tuple, list, dict, bool, None]:\n",
    "                print(\"2\", dataset[\"name\"], k, v, type(v), float(v))"
   ]
  },
  {
   "cell_type": "code",
   "execution_count": 6,
   "id": "9b080edb-6115-4da6-bc82-df38186b94d4",
   "metadata": {},
   "outputs": [
    {
     "name": "stdout",
     "output_type": "stream",
     "text": [
      "Prepare database 1.\n",
      "- check for duplicates...\n",
      "- check for values format...\n",
      "- relinking exchanges...\n",
      "Done!\n",
      "Building scenario factor file...\n",
      "Data package saved at /Users/romain/GitHub/premise/dev/export/datapackage/datapackage_2023-04-20.zip\n",
      "Generate scenario report.\n",
      "Report saved under /Users/romain/GitHub/premise/dev/export/scenario_report.\n",
      "Generate change report.\n",
      "Report saved under /Users/romain/GitHub/premise/dev.\n"
     ]
    }
   ],
   "source": [
    "ndb.write_datapackage()"
   ]
  },
  {
   "cell_type": "code",
   "execution_count": 1,
   "id": "1634239e-6138-4097-b069-b2f7b34b945e",
   "metadata": {},
   "outputs": [],
   "source": [
    "from unfold import Unfold\n",
    "import brightway2 as bw\n",
    "bw.projects.set_current(\"ei39\")"
   ]
  },
  {
   "cell_type": "code",
   "execution_count": 2,
   "id": "d0d75b4c-61fc-47d2-b3e2-014f38f3902d",
   "metadata": {},
   "outputs": [
    {
     "name": "stdout",
     "output_type": "stream",
     "text": [
      "The data package contains the following scenarios:\n",
      "+-----+---------------------------+------------------------------------------------------------------------+\n",
      "| No. |          Scenario         |                              Description                               |\n",
      "+-----+---------------------------+------------------------------------------------------------------------+\n",
      "|  0  | remind - SSP2-Base - 2050 | Prospective db, based on REMIND, pathway SSP2-BASE, for the year 2050. |\n",
      "+-----+---------------------------+------------------------------------------------------------------------+\n",
      "\n",
      "To unfold all scenarios, `unfold()`.\n",
      "To unfold a specific scenario, `unfold(scenarios=[1,])`.\n"
     ]
    }
   ],
   "source": [
    "u = Unfold(\"export/datapackage/datapackage_2023-04-20.zip\")"
   ]
  },
  {
   "cell_type": "code",
   "execution_count": 3,
   "id": "a5b3ffb0-6dd5-442d-ac44-c76129fece6a",
   "metadata": {},
   "outputs": [
    {
     "name": "stdout",
     "output_type": "stream",
     "text": [
      "The following databases are necessary to unfold the scenarios:\n",
      "+-----+------------+--------------+---------+\n",
      "| No. | Dependency | System model | Version |\n",
      "+-----+------------+--------------+---------+\n",
      "|  1  | ecoinvent  |   cut-off    |   3.9   |\n",
      "|  2  | biosphere3 |              |         |\n",
      "+-----+------------+--------------+---------+\n",
      "\n",
      "The following databases are available in your project:\n",
      "+-----+--------------------------------------------------+\n",
      "| No. |                     Database                     |\n",
      "+-----+--------------------------------------------------+\n",
      "|  1  |                    biosphere3                    |\n",
      "|  2  |               ecoinvent 3.9 cutoff               |\n",
      "|  3  |             ESA LCA External 1.1.8a              |\n",
      "|  4  |           ecoinvent 3.9 consequential            |\n",
      "|  5  |      ecoinvent_cutoff_remind_SSP1-Base_2005      |\n",
      "|  6  |      ecoinvent_cutoff_image_SSP2-Base_2100       |\n",
      "|  7  |      ecoinvent_cutoff_remind_SSP5-Base_2050      |\n",
      "|  8  |    ecoinvent_cutoff_3.9_remind_SSP1-Base_2005    |\n",
      "|  9  |    ecoinvent_cutoff_3.9_image_SSP2-Base_2100     |\n",
      "|  10 |    ecoinvent_cutoff_3.9_remind_SSP5-Base_2050    |\n",
      "|  11 |                      test1                       |\n",
      "|  12 |                      test2                       |\n",
      "|  13 |              ecoinvent 3.9.1 cutoff              |\n",
      "|  14 |          ecoinvent 3.9.1 consequential           |\n",
      "|  15 |                    test_super                    |\n",
      "|  16 |                      brian                       |\n",
      "|  17 |                     RTE_2020                     |\n",
      "|  18 |                     RTE_2030                     |\n",
      "|  19 |                     RTE_2040                     |\n",
      "|  20 |                     RTE_2050                     |\n",
      "|  21 |                     RTE_2060                     |\n",
      "|  22 |                   RTE_2020_M0                    |\n",
      "|  23 |                   RTE_2025_M0                    |\n",
      "|  24 |                   RTE_2030_M0                    |\n",
      "|  25 |                   RTE_2035_M0                    |\n",
      "|  26 |                   RTE_2040_M0                    |\n",
      "|  27 |                   RTE_2045_M0                    |\n",
      "|  28 |                   RTE_2050_M0                    |\n",
      "|  29 |                   RTE_2055_M0                    |\n",
      "|  30 |                   RTE_2060_M0                    |\n",
      "|  31 |               RTE_2020_sobriety_N3               |\n",
      "|  32 |               RTE_2025_sobriety_N3               |\n",
      "|  33 |               RTE_2030_sobriety_N3               |\n",
      "|  34 |               RTE_2035_sobriety_N3               |\n",
      "|  35 |               RTE_2040_sobriety_N3               |\n",
      "|  36 |               RTE_2045_sobriety_N3               |\n",
      "|  37 |               RTE_2050_sobriety_N3               |\n",
      "|  38 |               RTE_2055_sobriety_N3               |\n",
      "|  39 |               RTE_2060_sobriety_N3               |\n",
      "|  40 |                 RTE_2020_ext_N1                  |\n",
      "|  41 |                 RTE_2025_ext_N1                  |\n",
      "|  42 |                 RTE_2030_ext_N1                  |\n",
      "|  43 |                 RTE_2035_ext_N1                  |\n",
      "|  44 |                 RTE_2040_ext_N1                  |\n",
      "|  45 |                 RTE_2045_ext_N1                  |\n",
      "|  46 |                 RTE_2050_ext_N1                  |\n",
      "|  47 |                 RTE_2055_ext_N1                  |\n",
      "|  48 |                 RTE_2060_ext_N1                  |\n",
      "|  49 |    ecoinvent_cutoff_3.9_remind_SSP2-NPi_2030     |\n",
      "|  50 |    ecoinvent_cutoff_3.9_remind_SSP2-NPi_2040     |\n",
      "|  51 |    ecoinvent_cutoff_3.9_remind_SSP2-NPi_2050     |\n",
      "|  52 | ecoinvent_cutoff_3.9_remind_SSP2-PkBudg1150_2030 |\n",
      "|  53 | ecoinvent_cutoff_3.9_remind_SSP2-PkBudg1150_2040 |\n",
      "|  54 | ecoinvent_cutoff_3.9_remind_SSP2-PkBudg1150_2050 |\n",
      "|  55 | ecoinvent_cutoff_3.9_remind_SSP2-PkBudg500_2030  |\n",
      "|  56 | ecoinvent_cutoff_3.9_remind_SSP2-PkBudg500_2040  |\n",
      "|  57 | ecoinvent_cutoff_3.9_remind_SSP2-PkBudg500_2050  |\n",
      "|  58 |                 trucks_bw_ei_39                  |\n",
      "|  59 |            remind - SSP2-Base - 2005             |\n",
      "|  60 |            remind - SSP2-Base - 2010             |\n",
      "|  61 |                    power2heat                    |\n",
      "|  62 |                    Power2heat                    |\n",
      "|  63 |                   Power-2-heat                   |\n",
      "|  64 |                       test                       |\n",
      "|  65 |                   my_super_db                    |\n",
      "+-----+--------------------------------------------------+\n",
      "\n"
     ]
    },
    {
     "name": "stdin",
     "output_type": "stream",
     "text": [
      "Indicate the database number for dependency 1:  2\n",
      "Indicate the database number for dependency 2:  1\n"
     ]
    },
    {
     "name": "stdout",
     "output_type": "stream",
     "text": [
      "Getting activity data\n"
     ]
    },
    {
     "name": "stderr",
     "output_type": "stream",
     "text": [
      "100%|█████████████████████████████████████████████| 21238/21238 [00:00<00:00, 117557.22it/s]\n"
     ]
    },
    {
     "name": "stdout",
     "output_type": "stream",
     "text": [
      "Adding exchange data to activities\n"
     ]
    },
    {
     "name": "stderr",
     "output_type": "stream",
     "text": [
      "100%|████████████████████████████████████████████| 674593/674593 [00:51<00:00, 13015.86it/s]\n"
     ]
    },
    {
     "name": "stdout",
     "output_type": "stream",
     "text": [
      "Filling out exchange data\n"
     ]
    },
    {
     "name": "stderr",
     "output_type": "stream",
     "text": [
      "100%|███████████████████████████████████████████████| 21238/21238 [00:03<00:00, 5880.32it/s]\n"
     ]
    },
    {
     "name": "stdout",
     "output_type": "stream",
     "text": [
      "Getting activity data\n"
     ]
    },
    {
     "name": "stderr",
     "output_type": "stream",
     "text": [
      "100%|███████████████████████████████████████████████| 4733/4733 [00:00<00:00, 287197.14it/s]\n"
     ]
    },
    {
     "name": "stdout",
     "output_type": "stream",
     "text": [
      "Adding exchange data to activities\n"
     ]
    },
    {
     "name": "stderr",
     "output_type": "stream",
     "text": [
      "0it [00:00, ?it/s]\n"
     ]
    },
    {
     "name": "stdout",
     "output_type": "stream",
     "text": [
      "Filling out exchange data\n"
     ]
    },
    {
     "name": "stderr",
     "output_type": "stream",
     "text": [
      "100%|██████████████████████████████████████████████| 4733/4733 [00:00<00:00, 4681990.76it/s]\n"
     ]
    },
    {
     "name": "stdout",
     "output_type": "stream",
     "text": [
      "Extracting additional inventories...\n",
      "Writing scenario difference file...\n",
      "Generating superstructure database...\n",
      "Scenario difference file exported to datapackage_2023-04-20.xlsx!\n",
      "\n",
      "Writing superstructure database...\n",
      "Database my_super_db already exists: it will be overwritten.\n",
      "Vacuuming database \n"
     ]
    },
    {
     "name": "stderr",
     "output_type": "stream",
     "text": [
      "Writing activities to SQLite3 database:\n",
      "0% [##############################] 100% | ETA: 00:00:00\n",
      "Total time elapsed: 00:00:34\n"
     ]
    },
    {
     "name": "stdout",
     "output_type": "stream",
     "text": [
      "Title: Writing activities to SQLite3 database:\n",
      "  Started: 04/20/2023 19:48:15\n",
      "  Finished: 04/20/2023 19:48:49\n",
      "  Total time elapsed: 00:00:34\n",
      "  CPU %: 96.80\n",
      "  Memory %: 16.06\n",
      "Created database: my_super_db\n"
     ]
    }
   ],
   "source": [
    "u.unfold(superstructure=True, name=\"my_super_db\")"
   ]
  },
  {
   "cell_type": "code",
   "execution_count": 5,
   "id": "0ada75a4-404c-4524-9bd2-7707290b1be9",
   "metadata": {},
   "outputs": [
    {
     "data": {
      "text/plain": [
       "{0: 'a', 1: 'b', 2: 'c'}"
      ]
     },
     "execution_count": 5,
     "metadata": {},
     "output_type": "execute_result"
    }
   ],
   "source": [
    "dict(enumerate([\"a\", \"b\", \"c\"]))"
   ]
  },
  {
   "cell_type": "code",
   "execution_count": 5,
   "id": "42e0e862-beaa-40e7-aca8-ffa80712ff14",
   "metadata": {},
   "outputs": [
    {
     "name": "stdout",
     "output_type": "stream",
     "text": [
      "Write new database(s) to Brightway2.\n",
      "Prepare database 1.\n",
      "- check for duplicates...\n",
      "- check for values format...\n",
      "- relinking exchanges...\n",
      "Done!\n",
      "Database test already exists: it will be overwritten.\n",
      "Vacuuming database \n"
     ]
    },
    {
     "name": "stderr",
     "output_type": "stream",
     "text": [
      "Writing activities to SQLite3 database:\n",
      "0% [##############################] 100% | ETA: 00:00:00\n",
      "Total time elapsed: 00:00:27\n"
     ]
    },
    {
     "name": "stdout",
     "output_type": "stream",
     "text": [
      "Title: Writing activities to SQLite3 database:\n",
      "  Started: 04/20/2023 16:10:57\n",
      "  Finished: 04/20/2023 16:11:25\n",
      "  Total time elapsed: 00:00:27\n",
      "  CPU %: 96.60\n",
      "  Memory %: 11.28\n",
      "Created database: test\n",
      "Generate scenario report.\n",
      "Report saved under /Users/romain/GitHub/premise/dev/export/scenario_report.\n",
      "Generate change report.\n",
      "Report saved under /Users/romain/GitHub/premise/dev.\n"
     ]
    }
   ],
   "source": [
    "ndb.write_db_to_brightway(\"test\")"
   ]
  },
  {
   "cell_type": "code",
   "execution_count": 5,
   "id": "bac25ace-28a8-4799-8604-1a0a3054cf23",
   "metadata": {},
   "outputs": [
    {
     "data": {
      "text/html": [
       "<div>\n",
       "<style scoped>\n",
       "    .dataframe tbody tr th:only-of-type {\n",
       "        vertical-align: middle;\n",
       "    }\n",
       "\n",
       "    .dataframe tbody tr th {\n",
       "        vertical-align: top;\n",
       "    }\n",
       "\n",
       "    .dataframe thead th {\n",
       "        text-align: right;\n",
       "    }\n",
       "</style>\n",
       "<table border=\"1\" class=\"dataframe\">\n",
       "  <thead>\n",
       "    <tr style=\"text-align: right;\">\n",
       "      <th></th>\n",
       "      <th>region</th>\n",
       "      <th>year</th>\n",
       "      <th>val</th>\n",
       "    </tr>\n",
       "    <tr>\n",
       "      <th>variables</th>\n",
       "      <th></th>\n",
       "      <th></th>\n",
       "      <th></th>\n",
       "    </tr>\n",
       "  </thead>\n",
       "  <tbody>\n",
       "    <tr>\n",
       "      <th>diesel</th>\n",
       "      <td>EUR</td>\n",
       "      <td>2050</td>\n",
       "      <td>7.050099</td>\n",
       "    </tr>\n",
       "    <tr>\n",
       "      <th>diesel, synthetic, from electrolysis</th>\n",
       "      <td>EUR</td>\n",
       "      <td>2050</td>\n",
       "      <td>0.000000</td>\n",
       "    </tr>\n",
       "    <tr>\n",
       "      <th>diesel, synthetic, from coal</th>\n",
       "      <td>EUR</td>\n",
       "      <td>2050</td>\n",
       "      <td>3.458622</td>\n",
       "    </tr>\n",
       "    <tr>\n",
       "      <th>diesel, synthetic, from coal, with CCS</th>\n",
       "      <td>EUR</td>\n",
       "      <td>2050</td>\n",
       "      <td>0.000000</td>\n",
       "    </tr>\n",
       "    <tr>\n",
       "      <th>diesel, synthetic, from wood</th>\n",
       "      <td>EUR</td>\n",
       "      <td>2050</td>\n",
       "      <td>2.131083</td>\n",
       "    </tr>\n",
       "    <tr>\n",
       "      <th>diesel, synthetic, from wood, with CCS</th>\n",
       "      <td>EUR</td>\n",
       "      <td>2050</td>\n",
       "      <td>0.000000</td>\n",
       "    </tr>\n",
       "    <tr>\n",
       "      <th>biodiesel, oil</th>\n",
       "      <td>EUR</td>\n",
       "      <td>2050</td>\n",
       "      <td>1.265283</td>\n",
       "    </tr>\n",
       "  </tbody>\n",
       "</table>\n",
       "</div>"
      ],
      "text/plain": [
       "                                       region  year       val\n",
       "variables                                                    \n",
       "diesel                                    EUR  2050  7.050099\n",
       "diesel, synthetic, from electrolysis      EUR  2050  0.000000\n",
       "diesel, synthetic, from coal              EUR  2050  3.458622\n",
       "diesel, synthetic, from coal, with CCS    EUR  2050  0.000000\n",
       "diesel, synthetic, from wood              EUR  2050  2.131083\n",
       "diesel, synthetic, from wood, with CCS    EUR  2050  0.000000\n",
       "biodiesel, oil                            EUR  2050  1.265283"
      ]
     },
     "execution_count": 5,
     "metadata": {},
     "output_type": "execute_result"
    }
   ],
   "source": [
    "variables = ndb.scenarios[0][\"iam data\"].fuel_markets.variables.values\n",
    "ndb.scenarios[0][\"iam data\"].fuel_markets.sel(region=\"EUR\", variables=[v for v in variables if \"diesel\" in v], year=2050).to_dataframe(\"val\")"
   ]
  },
  {
   "cell_type": "code",
   "execution_count": 13,
   "id": "1d2ed3e9-59b4-41a9-863e-9b38388d99ec",
   "metadata": {},
   "outputs": [
    {
     "data": {
      "text/html": [
       "<div><svg style=\"position: absolute; width: 0; height: 0; overflow: hidden\">\n",
       "<defs>\n",
       "<symbol id=\"icon-database\" viewBox=\"0 0 32 32\">\n",
       "<path d=\"M16 0c-8.837 0-16 2.239-16 5v4c0 2.761 7.163 5 16 5s16-2.239 16-5v-4c0-2.761-7.163-5-16-5z\"></path>\n",
       "<path d=\"M16 17c-8.837 0-16-2.239-16-5v6c0 2.761 7.163 5 16 5s16-2.239 16-5v-6c0 2.761-7.163 5-16 5z\"></path>\n",
       "<path d=\"M16 26c-8.837 0-16-2.239-16-5v6c0 2.761 7.163 5 16 5s16-2.239 16-5v-6c0 2.761-7.163 5-16 5z\"></path>\n",
       "</symbol>\n",
       "<symbol id=\"icon-file-text2\" viewBox=\"0 0 32 32\">\n",
       "<path d=\"M28.681 7.159c-0.694-0.947-1.662-2.053-2.724-3.116s-2.169-2.030-3.116-2.724c-1.612-1.182-2.393-1.319-2.841-1.319h-15.5c-1.378 0-2.5 1.121-2.5 2.5v27c0 1.378 1.122 2.5 2.5 2.5h23c1.378 0 2.5-1.122 2.5-2.5v-19.5c0-0.448-0.137-1.23-1.319-2.841zM24.543 5.457c0.959 0.959 1.712 1.825 2.268 2.543h-4.811v-4.811c0.718 0.556 1.584 1.309 2.543 2.268zM28 29.5c0 0.271-0.229 0.5-0.5 0.5h-23c-0.271 0-0.5-0.229-0.5-0.5v-27c0-0.271 0.229-0.5 0.5-0.5 0 0 15.499-0 15.5 0v7c0 0.552 0.448 1 1 1h7v19.5z\"></path>\n",
       "<path d=\"M23 26h-14c-0.552 0-1-0.448-1-1s0.448-1 1-1h14c0.552 0 1 0.448 1 1s-0.448 1-1 1z\"></path>\n",
       "<path d=\"M23 22h-14c-0.552 0-1-0.448-1-1s0.448-1 1-1h14c0.552 0 1 0.448 1 1s-0.448 1-1 1z\"></path>\n",
       "<path d=\"M23 18h-14c-0.552 0-1-0.448-1-1s0.448-1 1-1h14c0.552 0 1 0.448 1 1s-0.448 1-1 1z\"></path>\n",
       "</symbol>\n",
       "</defs>\n",
       "</svg>\n",
       "<style>/* CSS stylesheet for displaying xarray objects in jupyterlab.\n",
       " *\n",
       " */\n",
       "\n",
       ":root {\n",
       "  --xr-font-color0: var(--jp-content-font-color0, rgba(0, 0, 0, 1));\n",
       "  --xr-font-color2: var(--jp-content-font-color2, rgba(0, 0, 0, 0.54));\n",
       "  --xr-font-color3: var(--jp-content-font-color3, rgba(0, 0, 0, 0.38));\n",
       "  --xr-border-color: var(--jp-border-color2, #e0e0e0);\n",
       "  --xr-disabled-color: var(--jp-layout-color3, #bdbdbd);\n",
       "  --xr-background-color: var(--jp-layout-color0, white);\n",
       "  --xr-background-color-row-even: var(--jp-layout-color1, white);\n",
       "  --xr-background-color-row-odd: var(--jp-layout-color2, #eeeeee);\n",
       "}\n",
       "\n",
       "html[theme=dark],\n",
       "body[data-theme=dark],\n",
       "body.vscode-dark {\n",
       "  --xr-font-color0: rgba(255, 255, 255, 1);\n",
       "  --xr-font-color2: rgba(255, 255, 255, 0.54);\n",
       "  --xr-font-color3: rgba(255, 255, 255, 0.38);\n",
       "  --xr-border-color: #1F1F1F;\n",
       "  --xr-disabled-color: #515151;\n",
       "  --xr-background-color: #111111;\n",
       "  --xr-background-color-row-even: #111111;\n",
       "  --xr-background-color-row-odd: #313131;\n",
       "}\n",
       "\n",
       ".xr-wrap {\n",
       "  display: block !important;\n",
       "  min-width: 300px;\n",
       "  max-width: 700px;\n",
       "}\n",
       "\n",
       ".xr-text-repr-fallback {\n",
       "  /* fallback to plain text repr when CSS is not injected (untrusted notebook) */\n",
       "  display: none;\n",
       "}\n",
       "\n",
       ".xr-header {\n",
       "  padding-top: 6px;\n",
       "  padding-bottom: 6px;\n",
       "  margin-bottom: 4px;\n",
       "  border-bottom: solid 1px var(--xr-border-color);\n",
       "}\n",
       "\n",
       ".xr-header > div,\n",
       ".xr-header > ul {\n",
       "  display: inline;\n",
       "  margin-top: 0;\n",
       "  margin-bottom: 0;\n",
       "}\n",
       "\n",
       ".xr-obj-type,\n",
       ".xr-array-name {\n",
       "  margin-left: 2px;\n",
       "  margin-right: 10px;\n",
       "}\n",
       "\n",
       ".xr-obj-type {\n",
       "  color: var(--xr-font-color2);\n",
       "}\n",
       "\n",
       ".xr-sections {\n",
       "  padding-left: 0 !important;\n",
       "  display: grid;\n",
       "  grid-template-columns: 150px auto auto 1fr 20px 20px;\n",
       "}\n",
       "\n",
       ".xr-section-item {\n",
       "  display: contents;\n",
       "}\n",
       "\n",
       ".xr-section-item input {\n",
       "  display: none;\n",
       "}\n",
       "\n",
       ".xr-section-item input + label {\n",
       "  color: var(--xr-disabled-color);\n",
       "}\n",
       "\n",
       ".xr-section-item input:enabled + label {\n",
       "  cursor: pointer;\n",
       "  color: var(--xr-font-color2);\n",
       "}\n",
       "\n",
       ".xr-section-item input:enabled + label:hover {\n",
       "  color: var(--xr-font-color0);\n",
       "}\n",
       "\n",
       ".xr-section-summary {\n",
       "  grid-column: 1;\n",
       "  color: var(--xr-font-color2);\n",
       "  font-weight: 500;\n",
       "}\n",
       "\n",
       ".xr-section-summary > span {\n",
       "  display: inline-block;\n",
       "  padding-left: 0.5em;\n",
       "}\n",
       "\n",
       ".xr-section-summary-in:disabled + label {\n",
       "  color: var(--xr-font-color2);\n",
       "}\n",
       "\n",
       ".xr-section-summary-in + label:before {\n",
       "  display: inline-block;\n",
       "  content: '►';\n",
       "  font-size: 11px;\n",
       "  width: 15px;\n",
       "  text-align: center;\n",
       "}\n",
       "\n",
       ".xr-section-summary-in:disabled + label:before {\n",
       "  color: var(--xr-disabled-color);\n",
       "}\n",
       "\n",
       ".xr-section-summary-in:checked + label:before {\n",
       "  content: '▼';\n",
       "}\n",
       "\n",
       ".xr-section-summary-in:checked + label > span {\n",
       "  display: none;\n",
       "}\n",
       "\n",
       ".xr-section-summary,\n",
       ".xr-section-inline-details {\n",
       "  padding-top: 4px;\n",
       "  padding-bottom: 4px;\n",
       "}\n",
       "\n",
       ".xr-section-inline-details {\n",
       "  grid-column: 2 / -1;\n",
       "}\n",
       "\n",
       ".xr-section-details {\n",
       "  display: none;\n",
       "  grid-column: 1 / -1;\n",
       "  margin-bottom: 5px;\n",
       "}\n",
       "\n",
       ".xr-section-summary-in:checked ~ .xr-section-details {\n",
       "  display: contents;\n",
       "}\n",
       "\n",
       ".xr-array-wrap {\n",
       "  grid-column: 1 / -1;\n",
       "  display: grid;\n",
       "  grid-template-columns: 20px auto;\n",
       "}\n",
       "\n",
       ".xr-array-wrap > label {\n",
       "  grid-column: 1;\n",
       "  vertical-align: top;\n",
       "}\n",
       "\n",
       ".xr-preview {\n",
       "  color: var(--xr-font-color3);\n",
       "}\n",
       "\n",
       ".xr-array-preview,\n",
       ".xr-array-data {\n",
       "  padding: 0 5px !important;\n",
       "  grid-column: 2;\n",
       "}\n",
       "\n",
       ".xr-array-data,\n",
       ".xr-array-in:checked ~ .xr-array-preview {\n",
       "  display: none;\n",
       "}\n",
       "\n",
       ".xr-array-in:checked ~ .xr-array-data,\n",
       ".xr-array-preview {\n",
       "  display: inline-block;\n",
       "}\n",
       "\n",
       ".xr-dim-list {\n",
       "  display: inline-block !important;\n",
       "  list-style: none;\n",
       "  padding: 0 !important;\n",
       "  margin: 0;\n",
       "}\n",
       "\n",
       ".xr-dim-list li {\n",
       "  display: inline-block;\n",
       "  padding: 0;\n",
       "  margin: 0;\n",
       "}\n",
       "\n",
       ".xr-dim-list:before {\n",
       "  content: '(';\n",
       "}\n",
       "\n",
       ".xr-dim-list:after {\n",
       "  content: ')';\n",
       "}\n",
       "\n",
       ".xr-dim-list li:not(:last-child):after {\n",
       "  content: ',';\n",
       "  padding-right: 5px;\n",
       "}\n",
       "\n",
       ".xr-has-index {\n",
       "  font-weight: bold;\n",
       "}\n",
       "\n",
       ".xr-var-list,\n",
       ".xr-var-item {\n",
       "  display: contents;\n",
       "}\n",
       "\n",
       ".xr-var-item > div,\n",
       ".xr-var-item label,\n",
       ".xr-var-item > .xr-var-name span {\n",
       "  background-color: var(--xr-background-color-row-even);\n",
       "  margin-bottom: 0;\n",
       "}\n",
       "\n",
       ".xr-var-item > .xr-var-name:hover span {\n",
       "  padding-right: 5px;\n",
       "}\n",
       "\n",
       ".xr-var-list > li:nth-child(odd) > div,\n",
       ".xr-var-list > li:nth-child(odd) > label,\n",
       ".xr-var-list > li:nth-child(odd) > .xr-var-name span {\n",
       "  background-color: var(--xr-background-color-row-odd);\n",
       "}\n",
       "\n",
       ".xr-var-name {\n",
       "  grid-column: 1;\n",
       "}\n",
       "\n",
       ".xr-var-dims {\n",
       "  grid-column: 2;\n",
       "}\n",
       "\n",
       ".xr-var-dtype {\n",
       "  grid-column: 3;\n",
       "  text-align: right;\n",
       "  color: var(--xr-font-color2);\n",
       "}\n",
       "\n",
       ".xr-var-preview {\n",
       "  grid-column: 4;\n",
       "}\n",
       "\n",
       ".xr-var-name,\n",
       ".xr-var-dims,\n",
       ".xr-var-dtype,\n",
       ".xr-preview,\n",
       ".xr-attrs dt {\n",
       "  white-space: nowrap;\n",
       "  overflow: hidden;\n",
       "  text-overflow: ellipsis;\n",
       "  padding-right: 10px;\n",
       "}\n",
       "\n",
       ".xr-var-name:hover,\n",
       ".xr-var-dims:hover,\n",
       ".xr-var-dtype:hover,\n",
       ".xr-attrs dt:hover {\n",
       "  overflow: visible;\n",
       "  width: auto;\n",
       "  z-index: 1;\n",
       "}\n",
       "\n",
       ".xr-var-attrs,\n",
       ".xr-var-data {\n",
       "  display: none;\n",
       "  background-color: var(--xr-background-color) !important;\n",
       "  padding-bottom: 5px !important;\n",
       "}\n",
       "\n",
       ".xr-var-attrs-in:checked ~ .xr-var-attrs,\n",
       ".xr-var-data-in:checked ~ .xr-var-data {\n",
       "  display: block;\n",
       "}\n",
       "\n",
       ".xr-var-data > table {\n",
       "  float: right;\n",
       "}\n",
       "\n",
       ".xr-var-name span,\n",
       ".xr-var-data,\n",
       ".xr-attrs {\n",
       "  padding-left: 25px !important;\n",
       "}\n",
       "\n",
       ".xr-attrs,\n",
       ".xr-var-attrs,\n",
       ".xr-var-data {\n",
       "  grid-column: 1 / -1;\n",
       "}\n",
       "\n",
       "dl.xr-attrs {\n",
       "  padding: 0;\n",
       "  margin: 0;\n",
       "  display: grid;\n",
       "  grid-template-columns: 125px auto;\n",
       "}\n",
       "\n",
       ".xr-attrs dt,\n",
       ".xr-attrs dd {\n",
       "  padding: 0;\n",
       "  margin: 0;\n",
       "  float: left;\n",
       "  padding-right: 10px;\n",
       "  width: auto;\n",
       "}\n",
       "\n",
       ".xr-attrs dt {\n",
       "  font-weight: normal;\n",
       "  grid-column: 1;\n",
       "}\n",
       "\n",
       ".xr-attrs dt:hover span {\n",
       "  display: inline-block;\n",
       "  background: var(--xr-background-color);\n",
       "  padding-right: 10px;\n",
       "}\n",
       "\n",
       ".xr-attrs dd {\n",
       "  grid-column: 2;\n",
       "  white-space: pre-wrap;\n",
       "  word-break: break-all;\n",
       "}\n",
       "\n",
       ".xr-icon-database,\n",
       ".xr-icon-file-text2 {\n",
       "  display: inline-block;\n",
       "  vertical-align: middle;\n",
       "  width: 1em;\n",
       "  height: 1.5em !important;\n",
       "  stroke-width: 0;\n",
       "  stroke: currentColor;\n",
       "  fill: currentColor;\n",
       "}\n",
       "</style><pre class='xr-text-repr-fallback'>&lt;xarray.DataArray &#x27;value&#x27; (region: 45, pollutant: 10, year: 6, sector: 441)&gt;\n",
       "array([[[[  nan,   nan, 8.75 , ...,   nan, 0.318,   nan],\n",
       "         [  nan,   nan, 8.75 , ...,   nan, 0.318,   nan],\n",
       "         [  nan,   nan, 8.75 , ...,   nan, 0.318,   nan],\n",
       "         [  nan,   nan, 8.75 , ...,   nan, 0.318,   nan],\n",
       "         [  nan,   nan, 8.75 , ...,   nan, 0.318,   nan],\n",
       "         [  nan,   nan, 8.75 , ...,   nan, 0.318,   nan]],\n",
       "\n",
       "        [[  nan,   nan,   nan, ...,   nan,   nan,   nan],\n",
       "         [  nan,   nan,   nan, ...,   nan,   nan,   nan],\n",
       "         [  nan,   nan,   nan, ...,   nan,   nan,   nan],\n",
       "         [  nan,   nan,   nan, ...,   nan,   nan,   nan],\n",
       "         [  nan,   nan,   nan, ...,   nan,   nan,   nan],\n",
       "         [  nan,   nan,   nan, ...,   nan,   nan,   nan]],\n",
       "\n",
       "        [[  nan,   nan,   nan, ...,   nan,   nan,   nan],\n",
       "         [  nan,   nan,   nan, ...,   nan,   nan,   nan],\n",
       "         [  nan,   nan,   nan, ...,   nan,   nan,   nan],\n",
       "         [  nan,   nan,   nan, ...,   nan,   nan,   nan],\n",
       "         [  nan,   nan,   nan, ...,   nan,   nan,   nan],\n",
       "         [  nan,   nan,   nan, ...,   nan,   nan,   nan]],\n",
       "...\n",
       "        [[0.188, 0.053,   nan, ...,   nan,   nan,   nan],\n",
       "         [0.188, 0.053,   nan, ...,   nan,   nan,   nan],\n",
       "         [0.188, 0.053,   nan, ...,   nan,   nan,   nan],\n",
       "         [0.188, 0.053,   nan, ...,   nan,   nan,   nan],\n",
       "         [0.188, 0.053,   nan, ...,   nan,   nan,   nan],\n",
       "         [0.188, 0.053,   nan, ...,   nan,   nan,   nan]],\n",
       "\n",
       "        [[  nan,   nan,   nan, ...,   nan,   nan,   nan],\n",
       "         [  nan,   nan,   nan, ...,   nan,   nan,   nan],\n",
       "         [  nan,   nan,   nan, ...,   nan,   nan,   nan],\n",
       "         [  nan,   nan,   nan, ...,   nan,   nan,   nan],\n",
       "         [  nan,   nan,   nan, ...,   nan,   nan,   nan],\n",
       "         [  nan,   nan,   nan, ...,   nan,   nan,   nan]],\n",
       "\n",
       "        [[  nan,   nan,   nan, ...,   nan,   nan,   nan],\n",
       "         [  nan,   nan,   nan, ...,   nan,   nan,   nan],\n",
       "         [  nan,   nan,   nan, ...,   nan,   nan,   nan],\n",
       "         [  nan,   nan,   nan, ...,   nan,   nan,   nan],\n",
       "         [  nan,   nan,   nan, ...,   nan,   nan,   nan],\n",
       "         [  nan,   nan,   nan, ...,   nan,   nan,   nan]]]])\n",
       "Coordinates:\n",
       "  * region     (region) object &#x27;AL&#x27; &#x27;AM&#x27; &#x27;AT&#x27; &#x27;AZ&#x27; &#x27;BA&#x27; ... &#x27;SK&#x27; &#x27;TR&#x27; &#x27;UA&#x27; &#x27;XK&#x27;\n",
       "  * pollutant  (pollutant) object &#x27;CH4&#x27; &#x27;CO&#x27; &#x27;N2O&#x27; &#x27;NH3&#x27; ... &#x27;PM25&#x27; &#x27;SO2&#x27; &#x27;VOC&#x27;\n",
       "  * year       (year) int64 2005 2010 2020 2030 2040 2050\n",
       "  * sector     (sector) object &#x27;AGR_ARABLENOF&#x27; ... &#x27;WW_DOM_DC_TRMPOP&#x27;</pre><div class='xr-wrap' style='display:none'><div class='xr-header'><div class='xr-obj-type'>xarray.DataArray</div><div class='xr-array-name'>'value'</div><ul class='xr-dim-list'><li><span class='xr-has-index'>region</span>: 45</li><li><span class='xr-has-index'>pollutant</span>: 10</li><li><span class='xr-has-index'>year</span>: 6</li><li><span class='xr-has-index'>sector</span>: 441</li></ul></div><ul class='xr-sections'><li class='xr-section-item'><div class='xr-array-wrap'><input id='section-d0fd1794-1ca0-4da2-9890-f12081a9a240' class='xr-array-in' type='checkbox' checked><label for='section-d0fd1794-1ca0-4da2-9890-f12081a9a240' title='Show/hide data repr'><svg class='icon xr-icon-database'><use xlink:href='#icon-database'></use></svg></label><div class='xr-array-preview xr-preview'><span>nan nan 8.75 57.0 57.17 20.0 70.0 ... nan nan nan nan nan nan nan</span></div><div class='xr-array-data'><pre>array([[[[  nan,   nan, 8.75 , ...,   nan, 0.318,   nan],\n",
       "         [  nan,   nan, 8.75 , ...,   nan, 0.318,   nan],\n",
       "         [  nan,   nan, 8.75 , ...,   nan, 0.318,   nan],\n",
       "         [  nan,   nan, 8.75 , ...,   nan, 0.318,   nan],\n",
       "         [  nan,   nan, 8.75 , ...,   nan, 0.318,   nan],\n",
       "         [  nan,   nan, 8.75 , ...,   nan, 0.318,   nan]],\n",
       "\n",
       "        [[  nan,   nan,   nan, ...,   nan,   nan,   nan],\n",
       "         [  nan,   nan,   nan, ...,   nan,   nan,   nan],\n",
       "         [  nan,   nan,   nan, ...,   nan,   nan,   nan],\n",
       "         [  nan,   nan,   nan, ...,   nan,   nan,   nan],\n",
       "         [  nan,   nan,   nan, ...,   nan,   nan,   nan],\n",
       "         [  nan,   nan,   nan, ...,   nan,   nan,   nan]],\n",
       "\n",
       "        [[  nan,   nan,   nan, ...,   nan,   nan,   nan],\n",
       "         [  nan,   nan,   nan, ...,   nan,   nan,   nan],\n",
       "         [  nan,   nan,   nan, ...,   nan,   nan,   nan],\n",
       "         [  nan,   nan,   nan, ...,   nan,   nan,   nan],\n",
       "         [  nan,   nan,   nan, ...,   nan,   nan,   nan],\n",
       "         [  nan,   nan,   nan, ...,   nan,   nan,   nan]],\n",
       "...\n",
       "        [[0.188, 0.053,   nan, ...,   nan,   nan,   nan],\n",
       "         [0.188, 0.053,   nan, ...,   nan,   nan,   nan],\n",
       "         [0.188, 0.053,   nan, ...,   nan,   nan,   nan],\n",
       "         [0.188, 0.053,   nan, ...,   nan,   nan,   nan],\n",
       "         [0.188, 0.053,   nan, ...,   nan,   nan,   nan],\n",
       "         [0.188, 0.053,   nan, ...,   nan,   nan,   nan]],\n",
       "\n",
       "        [[  nan,   nan,   nan, ...,   nan,   nan,   nan],\n",
       "         [  nan,   nan,   nan, ...,   nan,   nan,   nan],\n",
       "         [  nan,   nan,   nan, ...,   nan,   nan,   nan],\n",
       "         [  nan,   nan,   nan, ...,   nan,   nan,   nan],\n",
       "         [  nan,   nan,   nan, ...,   nan,   nan,   nan],\n",
       "         [  nan,   nan,   nan, ...,   nan,   nan,   nan]],\n",
       "\n",
       "        [[  nan,   nan,   nan, ...,   nan,   nan,   nan],\n",
       "         [  nan,   nan,   nan, ...,   nan,   nan,   nan],\n",
       "         [  nan,   nan,   nan, ...,   nan,   nan,   nan],\n",
       "         [  nan,   nan,   nan, ...,   nan,   nan,   nan],\n",
       "         [  nan,   nan,   nan, ...,   nan,   nan,   nan],\n",
       "         [  nan,   nan,   nan, ...,   nan,   nan,   nan]]]])</pre></div></div></li><li class='xr-section-item'><input id='section-1d6347ec-6056-45e1-8f0f-57cf3473cf09' class='xr-section-summary-in' type='checkbox'  checked><label for='section-1d6347ec-6056-45e1-8f0f-57cf3473cf09' class='xr-section-summary' >Coordinates: <span>(4)</span></label><div class='xr-section-inline-details'></div><div class='xr-section-details'><ul class='xr-var-list'><li class='xr-var-item'><div class='xr-var-name'><span class='xr-has-index'>region</span></div><div class='xr-var-dims'>(region)</div><div class='xr-var-dtype'>object</div><div class='xr-var-preview xr-preview'>&#x27;AL&#x27; &#x27;AM&#x27; &#x27;AT&#x27; ... &#x27;TR&#x27; &#x27;UA&#x27; &#x27;XK&#x27;</div><input id='attrs-001695f2-d5ad-4a08-8735-88f651781bc9' class='xr-var-attrs-in' type='checkbox' disabled><label for='attrs-001695f2-d5ad-4a08-8735-88f651781bc9' title='Show/Hide attributes'><svg class='icon xr-icon-file-text2'><use xlink:href='#icon-file-text2'></use></svg></label><input id='data-eaa0320a-d118-4d2a-a560-09223dce9d93' class='xr-var-data-in' type='checkbox'><label for='data-eaa0320a-d118-4d2a-a560-09223dce9d93' title='Show/Hide data repr'><svg class='icon xr-icon-database'><use xlink:href='#icon-database'></use></svg></label><div class='xr-var-attrs'><dl class='xr-attrs'></dl></div><div class='xr-var-data'><pre>array([&#x27;AL&#x27;, &#x27;AM&#x27;, &#x27;AT&#x27;, &#x27;AZ&#x27;, &#x27;BA&#x27;, &#x27;BE&#x27;, &#x27;BG&#x27;, &#x27;BY&#x27;, &#x27;CH&#x27;, &#x27;CY&#x27;, &#x27;CZ&#x27;, &#x27;DE&#x27;,\n",
       "       &#x27;DK&#x27;, &#x27;EE&#x27;, &#x27;ES&#x27;, &#x27;FI&#x27;, &#x27;FR&#x27;, &#x27;GB&#x27;, &#x27;GE&#x27;, &#x27;GR&#x27;, &#x27;HK&#x27;, &#x27;HU&#x27;, &#x27;IE&#x27;, &#x27;IS&#x27;,\n",
       "       &#x27;IT&#x27;, &#x27;LT&#x27;, &#x27;LU&#x27;, &#x27;LV&#x27;, &#x27;MD&#x27;, &#x27;ME&#x27;, &#x27;MK&#x27;, &#x27;MT&#x27;, &#x27;NL&#x27;, &#x27;NO&#x27;, &#x27;PL&#x27;, &#x27;PT&#x27;,\n",
       "       &#x27;RO&#x27;, &#x27;RS&#x27;, &#x27;RU&#x27;, &#x27;SE&#x27;, &#x27;SI&#x27;, &#x27;SK&#x27;, &#x27;TR&#x27;, &#x27;UA&#x27;, &#x27;XK&#x27;], dtype=object)</pre></div></li><li class='xr-var-item'><div class='xr-var-name'><span class='xr-has-index'>pollutant</span></div><div class='xr-var-dims'>(pollutant)</div><div class='xr-var-dtype'>object</div><div class='xr-var-preview xr-preview'>&#x27;CH4&#x27; &#x27;CO&#x27; &#x27;N2O&#x27; ... &#x27;SO2&#x27; &#x27;VOC&#x27;</div><input id='attrs-8ce0fb3b-1111-4f76-a14c-6517dcc4c4c5' class='xr-var-attrs-in' type='checkbox' disabled><label for='attrs-8ce0fb3b-1111-4f76-a14c-6517dcc4c4c5' title='Show/Hide attributes'><svg class='icon xr-icon-file-text2'><use xlink:href='#icon-file-text2'></use></svg></label><input id='data-d04ca92c-0629-4d63-aa3e-1c3789a892f3' class='xr-var-data-in' type='checkbox'><label for='data-d04ca92c-0629-4d63-aa3e-1c3789a892f3' title='Show/Hide data repr'><svg class='icon xr-icon-database'><use xlink:href='#icon-database'></use></svg></label><div class='xr-var-attrs'><dl class='xr-attrs'></dl></div><div class='xr-var-data'><pre>array([&#x27;CH4&#x27;, &#x27;CO&#x27;, &#x27;N2O&#x27;, &#x27;NH3&#x27;, &#x27;NOX&#x27;, &#x27;PM1&#x27;, &#x27;PM10&#x27;, &#x27;PM25&#x27;, &#x27;SO2&#x27;, &#x27;VOC&#x27;],\n",
       "      dtype=object)</pre></div></li><li class='xr-var-item'><div class='xr-var-name'><span class='xr-has-index'>year</span></div><div class='xr-var-dims'>(year)</div><div class='xr-var-dtype'>int64</div><div class='xr-var-preview xr-preview'>2005 2010 2020 2030 2040 2050</div><input id='attrs-755bd130-56e2-491b-b9a9-58ed5a8385b3' class='xr-var-attrs-in' type='checkbox' disabled><label for='attrs-755bd130-56e2-491b-b9a9-58ed5a8385b3' title='Show/Hide attributes'><svg class='icon xr-icon-file-text2'><use xlink:href='#icon-file-text2'></use></svg></label><input id='data-0e205965-6e24-4f78-8458-bfeef2b4ed39' class='xr-var-data-in' type='checkbox'><label for='data-0e205965-6e24-4f78-8458-bfeef2b4ed39' title='Show/Hide data repr'><svg class='icon xr-icon-database'><use xlink:href='#icon-database'></use></svg></label><div class='xr-var-attrs'><dl class='xr-attrs'></dl></div><div class='xr-var-data'><pre>array([2005, 2010, 2020, 2030, 2040, 2050])</pre></div></li><li class='xr-var-item'><div class='xr-var-name'><span class='xr-has-index'>sector</span></div><div class='xr-var-dims'>(sector)</div><div class='xr-var-dtype'>object</div><div class='xr-var-preview xr-preview'>&#x27;AGR_ARABLENOF&#x27; ... &#x27;WW_DOM_DC_T...</div><input id='attrs-8f19acc6-7375-4142-b972-4e8e66776b3e' class='xr-var-attrs-in' type='checkbox' disabled><label for='attrs-8f19acc6-7375-4142-b972-4e8e66776b3e' title='Show/Hide attributes'><svg class='icon xr-icon-file-text2'><use xlink:href='#icon-file-text2'></use></svg></label><input id='data-0ad98fc8-3962-4c72-a5fc-4bf2ad6363b6' class='xr-var-data-in' type='checkbox'><label for='data-0ad98fc8-3962-4c72-a5fc-4bf2ad6363b6' title='Show/Hide data repr'><svg class='icon xr-icon-database'><use xlink:href='#icon-database'></use></svg></label><div class='xr-var-attrs'><dl class='xr-attrs'></dl></div><div class='xr-var-data'><pre>array([&#x27;AGR_ARABLENOF&#x27;, &#x27;AGR_BEEFNOF&#x27;, &#x27;AGR_BEEFOL&#x27;, ..., &#x27;WW_DOM_CC_TRMPOP&#x27;,\n",
       "       &#x27;WW_DOM_DC_NOCPOP&#x27;, &#x27;WW_DOM_DC_TRMPOP&#x27;], dtype=object)</pre></div></li></ul></div></li><li class='xr-section-item'><input id='section-2f49a46c-6531-4c31-a574-c46c5423ba1d' class='xr-section-summary-in' type='checkbox' disabled ><label for='section-2f49a46c-6531-4c31-a574-c46c5423ba1d' class='xr-section-summary'  title='Expand/collapse section'>Attributes: <span>(0)</span></label><div class='xr-section-inline-details'></div><div class='xr-section-details'><dl class='xr-attrs'></dl></div></li></ul></div></div>"
      ],
      "text/plain": [
       "<xarray.DataArray 'value' (region: 45, pollutant: 10, year: 6, sector: 441)>\n",
       "array([[[[  nan,   nan, 8.75 , ...,   nan, 0.318,   nan],\n",
       "         [  nan,   nan, 8.75 , ...,   nan, 0.318,   nan],\n",
       "         [  nan,   nan, 8.75 , ...,   nan, 0.318,   nan],\n",
       "         [  nan,   nan, 8.75 , ...,   nan, 0.318,   nan],\n",
       "         [  nan,   nan, 8.75 , ...,   nan, 0.318,   nan],\n",
       "         [  nan,   nan, 8.75 , ...,   nan, 0.318,   nan]],\n",
       "\n",
       "        [[  nan,   nan,   nan, ...,   nan,   nan,   nan],\n",
       "         [  nan,   nan,   nan, ...,   nan,   nan,   nan],\n",
       "         [  nan,   nan,   nan, ...,   nan,   nan,   nan],\n",
       "         [  nan,   nan,   nan, ...,   nan,   nan,   nan],\n",
       "         [  nan,   nan,   nan, ...,   nan,   nan,   nan],\n",
       "         [  nan,   nan,   nan, ...,   nan,   nan,   nan]],\n",
       "\n",
       "        [[  nan,   nan,   nan, ...,   nan,   nan,   nan],\n",
       "         [  nan,   nan,   nan, ...,   nan,   nan,   nan],\n",
       "         [  nan,   nan,   nan, ...,   nan,   nan,   nan],\n",
       "         [  nan,   nan,   nan, ...,   nan,   nan,   nan],\n",
       "         [  nan,   nan,   nan, ...,   nan,   nan,   nan],\n",
       "         [  nan,   nan,   nan, ...,   nan,   nan,   nan]],\n",
       "...\n",
       "        [[0.188, 0.053,   nan, ...,   nan,   nan,   nan],\n",
       "         [0.188, 0.053,   nan, ...,   nan,   nan,   nan],\n",
       "         [0.188, 0.053,   nan, ...,   nan,   nan,   nan],\n",
       "         [0.188, 0.053,   nan, ...,   nan,   nan,   nan],\n",
       "         [0.188, 0.053,   nan, ...,   nan,   nan,   nan],\n",
       "         [0.188, 0.053,   nan, ...,   nan,   nan,   nan]],\n",
       "\n",
       "        [[  nan,   nan,   nan, ...,   nan,   nan,   nan],\n",
       "         [  nan,   nan,   nan, ...,   nan,   nan,   nan],\n",
       "         [  nan,   nan,   nan, ...,   nan,   nan,   nan],\n",
       "         [  nan,   nan,   nan, ...,   nan,   nan,   nan],\n",
       "         [  nan,   nan,   nan, ...,   nan,   nan,   nan],\n",
       "         [  nan,   nan,   nan, ...,   nan,   nan,   nan]],\n",
       "\n",
       "        [[  nan,   nan,   nan, ...,   nan,   nan,   nan],\n",
       "         [  nan,   nan,   nan, ...,   nan,   nan,   nan],\n",
       "         [  nan,   nan,   nan, ...,   nan,   nan,   nan],\n",
       "         [  nan,   nan,   nan, ...,   nan,   nan,   nan],\n",
       "         [  nan,   nan,   nan, ...,   nan,   nan,   nan],\n",
       "         [  nan,   nan,   nan, ...,   nan,   nan,   nan]]]])\n",
       "Coordinates:\n",
       "  * region     (region) object 'AL' 'AM' 'AT' 'AZ' 'BA' ... 'SK' 'TR' 'UA' 'XK'\n",
       "  * pollutant  (pollutant) object 'CH4' 'CO' 'N2O' 'NH3' ... 'PM25' 'SO2' 'VOC'\n",
       "  * year       (year) int64 2005 2010 2020 2030 2040 2050\n",
       "  * sector     (sector) object 'AGR_ARABLENOF' ... 'WW_DOM_DC_TRMPOP'"
      ]
     },
     "execution_count": 13,
     "metadata": {},
     "output_type": "execute_result"
    }
   ],
   "source": [
    "ndb.scenarios[0][\"iam data\"].gains_data_EU"
   ]
  },
  {
   "cell_type": "code",
   "execution_count": null,
   "id": "ee9a7999-ebf2-40d7-9c86-0a4c108fc95f",
   "metadata": {},
   "outputs": [],
   "source": [
    "ndb.write_db_to_brightway(\"test\")"
   ]
  },
  {
   "cell_type": "code",
   "execution_count": 5,
   "id": "98ca5460-590c-453e-9cc9-ebb7f158618a",
   "metadata": {},
   "outputs": [
    {
     "name": "stdout",
     "output_type": "stream",
     "text": [
      "Prepare database 1.\n",
      "- check for duplicates...\n",
      "- check for values format...\n",
      "- relinking exchanges...\n",
      "Done!\n",
      "Prepare database 2.\n",
      "- check for duplicates...\n",
      "- check for values format...\n",
      "- relinking exchanges...\n",
      "Done!\n",
      "Building scenario factor file...\n",
      "Data package saved at /Users/romain/GitHub/premise/dev/export/datapackage/datapackage_2023-04-06.zip\n",
      "Generate scenario report.\n",
      "Report saved under /Users/romain/GitHub/premise/dev/export/scenario_report.\n",
      "Generate change report.\n",
      "Report saved under /Users/romain/GitHub/premise/dev.\n"
     ]
    }
   ],
   "source": [
    "ndb.write_datapackage()"
   ]
  },
  {
   "cell_type": "code",
   "execution_count": 6,
   "id": "de89e412-fe4f-44ee-8525-bcbe11f1fa0c",
   "metadata": {},
   "outputs": [],
   "source": [
    "from unfold import Unfold"
   ]
  },
  {
   "cell_type": "code",
   "execution_count": 18,
   "id": "85b6e404-e2c2-40c3-9da3-462848377927",
   "metadata": {},
   "outputs": [
    {
     "name": "stdout",
     "output_type": "stream",
     "text": [
      "The data package contains the following scenarios:\n",
      "+-----+---------------------------------+------------------------------------------------------------------------------+\n",
      "| No. |             Scenario            |                                 Description                                  |\n",
      "+-----+---------------------------------+------------------------------------------------------------------------------+\n",
      "|  0  |    remind - SSP2-Base - 2005    |    Prospective db, based on REMIND, pathway SSP2-BASE, for the year 2005.    |\n",
      "|  1  |    remind - SSP2-Base - 2010    |    Prospective db, based on REMIND, pathway SSP2-BASE, for the year 2010.    |\n",
      "|  2  |    remind - SSP2-Base - 2015    |    Prospective db, based on REMIND, pathway SSP2-BASE, for the year 2015.    |\n",
      "|  3  |    remind - SSP2-Base - 2020    |    Prospective db, based on REMIND, pathway SSP2-BASE, for the year 2020.    |\n",
      "|  4  |    remind - SSP2-Base - 2025    |    Prospective db, based on REMIND, pathway SSP2-BASE, for the year 2025.    |\n",
      "|  5  |    remind - SSP2-Base - 2030    |    Prospective db, based on REMIND, pathway SSP2-BASE, for the year 2030.    |\n",
      "|  6  |    remind - SSP2-Base - 2035    |    Prospective db, based on REMIND, pathway SSP2-BASE, for the year 2035.    |\n",
      "|  7  |    remind - SSP2-Base - 2040    |    Prospective db, based on REMIND, pathway SSP2-BASE, for the year 2040.    |\n",
      "|  8  |    remind - SSP2-Base - 2045    |    Prospective db, based on REMIND, pathway SSP2-BASE, for the year 2045.    |\n",
      "|  9  |    remind - SSP2-Base - 2050    |    Prospective db, based on REMIND, pathway SSP2-BASE, for the year 2050.    |\n",
      "|  10 |    remind - SSP2-Base - 2055    |    Prospective db, based on REMIND, pathway SSP2-BASE, for the year 2055.    |\n",
      "|  11 |    remind - SSP2-Base - 2060    |    Prospective db, based on REMIND, pathway SSP2-BASE, for the year 2060.    |\n",
      "|  12 |    remind - SSP2-Base - 2065    |    Prospective db, based on REMIND, pathway SSP2-BASE, for the year 2065.    |\n",
      "|  13 |    remind - SSP2-Base - 2070    |    Prospective db, based on REMIND, pathway SSP2-BASE, for the year 2070.    |\n",
      "|  14 |    remind - SSP2-Base - 2075    |    Prospective db, based on REMIND, pathway SSP2-BASE, for the year 2075.    |\n",
      "|  15 |    remind - SSP2-Base - 2080    |    Prospective db, based on REMIND, pathway SSP2-BASE, for the year 2080.    |\n",
      "|  16 |    remind - SSP2-Base - 2085    |    Prospective db, based on REMIND, pathway SSP2-BASE, for the year 2085.    |\n",
      "|  17 |    remind - SSP2-Base - 2090    |    Prospective db, based on REMIND, pathway SSP2-BASE, for the year 2090.    |\n",
      "|  18 |    remind - SSP2-Base - 2095    |    Prospective db, based on REMIND, pathway SSP2-BASE, for the year 2095.    |\n",
      "|  19 |    remind - SSP2-Base - 2100    |    Prospective db, based on REMIND, pathway SSP2-BASE, for the year 2100.    |\n",
      "|  20 |     remind - SSP2-NDC - 2005    |    Prospective db, based on REMIND, pathway SSP2-NDC, for the year 2005.     |\n",
      "|  21 |     remind - SSP2-NDC - 2010    |    Prospective db, based on REMIND, pathway SSP2-NDC, for the year 2010.     |\n",
      "|  22 |     remind - SSP2-NDC - 2015    |    Prospective db, based on REMIND, pathway SSP2-NDC, for the year 2015.     |\n",
      "|  23 |     remind - SSP2-NDC - 2020    |    Prospective db, based on REMIND, pathway SSP2-NDC, for the year 2020.     |\n",
      "|  24 |     remind - SSP2-NDC - 2025    |    Prospective db, based on REMIND, pathway SSP2-NDC, for the year 2025.     |\n",
      "|  25 |     remind - SSP2-NDC - 2030    |    Prospective db, based on REMIND, pathway SSP2-NDC, for the year 2030.     |\n",
      "|  26 |     remind - SSP2-NDC - 2035    |    Prospective db, based on REMIND, pathway SSP2-NDC, for the year 2035.     |\n",
      "|  27 |     remind - SSP2-NDC - 2040    |    Prospective db, based on REMIND, pathway SSP2-NDC, for the year 2040.     |\n",
      "|  28 |     remind - SSP2-NDC - 2045    |    Prospective db, based on REMIND, pathway SSP2-NDC, for the year 2045.     |\n",
      "|  29 |     remind - SSP2-NDC - 2050    |    Prospective db, based on REMIND, pathway SSP2-NDC, for the year 2050.     |\n",
      "|  30 |     remind - SSP2-NDC - 2055    |    Prospective db, based on REMIND, pathway SSP2-NDC, for the year 2055.     |\n",
      "|  31 |     remind - SSP2-NDC - 2060    |    Prospective db, based on REMIND, pathway SSP2-NDC, for the year 2060.     |\n",
      "|  32 |     remind - SSP2-NDC - 2065    |    Prospective db, based on REMIND, pathway SSP2-NDC, for the year 2065.     |\n",
      "|  33 |     remind - SSP2-NDC - 2070    |    Prospective db, based on REMIND, pathway SSP2-NDC, for the year 2070.     |\n",
      "|  34 |     remind - SSP2-NDC - 2075    |    Prospective db, based on REMIND, pathway SSP2-NDC, for the year 2075.     |\n",
      "|  35 |     remind - SSP2-NDC - 2080    |    Prospective db, based on REMIND, pathway SSP2-NDC, for the year 2080.     |\n",
      "|  36 |     remind - SSP2-NDC - 2085    |    Prospective db, based on REMIND, pathway SSP2-NDC, for the year 2085.     |\n",
      "|  37 |     remind - SSP2-NDC - 2090    |    Prospective db, based on REMIND, pathway SSP2-NDC, for the year 2090.     |\n",
      "|  38 |     remind - SSP2-NDC - 2095    |    Prospective db, based on REMIND, pathway SSP2-NDC, for the year 2095.     |\n",
      "|  39 |     remind - SSP2-NDC - 2100    |    Prospective db, based on REMIND, pathway SSP2-NDC, for the year 2100.     |\n",
      "|  40 |     remind - SSP2-NPi - 2005    |    Prospective db, based on REMIND, pathway SSP2-NPI, for the year 2005.     |\n",
      "|  41 |     remind - SSP2-NPi - 2010    |    Prospective db, based on REMIND, pathway SSP2-NPI, for the year 2010.     |\n",
      "|  42 |     remind - SSP2-NPi - 2015    |    Prospective db, based on REMIND, pathway SSP2-NPI, for the year 2015.     |\n",
      "|  43 |     remind - SSP2-NPi - 2020    |    Prospective db, based on REMIND, pathway SSP2-NPI, for the year 2020.     |\n",
      "|  44 |     remind - SSP2-NPi - 2025    |    Prospective db, based on REMIND, pathway SSP2-NPI, for the year 2025.     |\n",
      "|  45 |     remind - SSP2-NPi - 2030    |    Prospective db, based on REMIND, pathway SSP2-NPI, for the year 2030.     |\n",
      "|  46 |     remind - SSP2-NPi - 2035    |    Prospective db, based on REMIND, pathway SSP2-NPI, for the year 2035.     |\n",
      "|  47 |     remind - SSP2-NPi - 2040    |    Prospective db, based on REMIND, pathway SSP2-NPI, for the year 2040.     |\n",
      "|  48 |     remind - SSP2-NPi - 2045    |    Prospective db, based on REMIND, pathway SSP2-NPI, for the year 2045.     |\n",
      "|  49 |     remind - SSP2-NPi - 2050    |    Prospective db, based on REMIND, pathway SSP2-NPI, for the year 2050.     |\n",
      "|  50 |     remind - SSP2-NPi - 2055    |    Prospective db, based on REMIND, pathway SSP2-NPI, for the year 2055.     |\n",
      "|  51 |     remind - SSP2-NPi - 2060    |    Prospective db, based on REMIND, pathway SSP2-NPI, for the year 2060.     |\n",
      "|  52 |     remind - SSP2-NPi - 2065    |    Prospective db, based on REMIND, pathway SSP2-NPI, for the year 2065.     |\n",
      "|  53 |     remind - SSP2-NPi - 2070    |    Prospective db, based on REMIND, pathway SSP2-NPI, for the year 2070.     |\n",
      "|  54 |     remind - SSP2-NPi - 2075    |    Prospective db, based on REMIND, pathway SSP2-NPI, for the year 2075.     |\n",
      "|  55 |     remind - SSP2-NPi - 2080    |    Prospective db, based on REMIND, pathway SSP2-NPI, for the year 2080.     |\n",
      "|  56 |     remind - SSP2-NPi - 2085    |    Prospective db, based on REMIND, pathway SSP2-NPI, for the year 2085.     |\n",
      "|  57 |     remind - SSP2-NPi - 2090    |    Prospective db, based on REMIND, pathway SSP2-NPI, for the year 2090.     |\n",
      "|  58 |     remind - SSP2-NPi - 2095    |    Prospective db, based on REMIND, pathway SSP2-NPI, for the year 2095.     |\n",
      "|  59 |     remind - SSP2-NPi - 2100    |    Prospective db, based on REMIND, pathway SSP2-NPI, for the year 2100.     |\n",
      "|  60 | remind - SSP2-PkBudg1150 - 2005 | Prospective db, based on REMIND, pathway SSP2-PKBUDG1150, for the year 2005. |\n",
      "|  61 | remind - SSP2-PkBudg1150 - 2010 | Prospective db, based on REMIND, pathway SSP2-PKBUDG1150, for the year 2010. |\n",
      "|  62 | remind - SSP2-PkBudg1150 - 2015 | Prospective db, based on REMIND, pathway SSP2-PKBUDG1150, for the year 2015. |\n",
      "|  63 | remind - SSP2-PkBudg1150 - 2020 | Prospective db, based on REMIND, pathway SSP2-PKBUDG1150, for the year 2020. |\n",
      "|  64 | remind - SSP2-PkBudg1150 - 2025 | Prospective db, based on REMIND, pathway SSP2-PKBUDG1150, for the year 2025. |\n",
      "|  65 | remind - SSP2-PkBudg1150 - 2030 | Prospective db, based on REMIND, pathway SSP2-PKBUDG1150, for the year 2030. |\n",
      "|  66 | remind - SSP2-PkBudg1150 - 2035 | Prospective db, based on REMIND, pathway SSP2-PKBUDG1150, for the year 2035. |\n",
      "|  67 | remind - SSP2-PkBudg1150 - 2040 | Prospective db, based on REMIND, pathway SSP2-PKBUDG1150, for the year 2040. |\n",
      "|  68 | remind - SSP2-PkBudg1150 - 2045 | Prospective db, based on REMIND, pathway SSP2-PKBUDG1150, for the year 2045. |\n",
      "|  69 | remind - SSP2-PkBudg1150 - 2050 | Prospective db, based on REMIND, pathway SSP2-PKBUDG1150, for the year 2050. |\n",
      "|  70 | remind - SSP2-PkBudg1150 - 2055 | Prospective db, based on REMIND, pathway SSP2-PKBUDG1150, for the year 2055. |\n",
      "|  71 | remind - SSP2-PkBudg1150 - 2060 | Prospective db, based on REMIND, pathway SSP2-PKBUDG1150, for the year 2060. |\n",
      "|  72 | remind - SSP2-PkBudg1150 - 2065 | Prospective db, based on REMIND, pathway SSP2-PKBUDG1150, for the year 2065. |\n",
      "|  73 | remind - SSP2-PkBudg1150 - 2070 | Prospective db, based on REMIND, pathway SSP2-PKBUDG1150, for the year 2070. |\n",
      "|  74 | remind - SSP2-PkBudg1150 - 2075 | Prospective db, based on REMIND, pathway SSP2-PKBUDG1150, for the year 2075. |\n",
      "|  75 | remind - SSP2-PkBudg1150 - 2080 | Prospective db, based on REMIND, pathway SSP2-PKBUDG1150, for the year 2080. |\n",
      "|  76 | remind - SSP2-PkBudg1150 - 2085 | Prospective db, based on REMIND, pathway SSP2-PKBUDG1150, for the year 2085. |\n",
      "|  77 | remind - SSP2-PkBudg1150 - 2090 | Prospective db, based on REMIND, pathway SSP2-PKBUDG1150, for the year 2090. |\n",
      "|  78 | remind - SSP2-PkBudg1150 - 2095 | Prospective db, based on REMIND, pathway SSP2-PKBUDG1150, for the year 2095. |\n",
      "|  79 | remind - SSP2-PkBudg1150 - 2100 | Prospective db, based on REMIND, pathway SSP2-PKBUDG1150, for the year 2100. |\n",
      "|  80 |  remind - SSP2-PkBudg500 - 2005 | Prospective db, based on REMIND, pathway SSP2-PKBUDG500, for the year 2005.  |\n",
      "|  81 |  remind - SSP2-PkBudg500 - 2010 | Prospective db, based on REMIND, pathway SSP2-PKBUDG500, for the year 2010.  |\n",
      "|  82 |  remind - SSP2-PkBudg500 - 2015 | Prospective db, based on REMIND, pathway SSP2-PKBUDG500, for the year 2015.  |\n",
      "|  83 |  remind - SSP2-PkBudg500 - 2020 | Prospective db, based on REMIND, pathway SSP2-PKBUDG500, for the year 2020.  |\n",
      "|  84 |  remind - SSP2-PkBudg500 - 2025 | Prospective db, based on REMIND, pathway SSP2-PKBUDG500, for the year 2025.  |\n",
      "|  85 |  remind - SSP2-PkBudg500 - 2030 | Prospective db, based on REMIND, pathway SSP2-PKBUDG500, for the year 2030.  |\n",
      "|  86 |  remind - SSP2-PkBudg500 - 2035 | Prospective db, based on REMIND, pathway SSP2-PKBUDG500, for the year 2035.  |\n",
      "|  87 |  remind - SSP2-PkBudg500 - 2040 | Prospective db, based on REMIND, pathway SSP2-PKBUDG500, for the year 2040.  |\n",
      "|  88 |  remind - SSP2-PkBudg500 - 2045 | Prospective db, based on REMIND, pathway SSP2-PKBUDG500, for the year 2045.  |\n",
      "|  89 |  remind - SSP2-PkBudg500 - 2050 | Prospective db, based on REMIND, pathway SSP2-PKBUDG500, for the year 2050.  |\n",
      "|  90 |  remind - SSP2-PkBudg500 - 2055 | Prospective db, based on REMIND, pathway SSP2-PKBUDG500, for the year 2055.  |\n",
      "|  91 |  remind - SSP2-PkBudg500 - 2060 | Prospective db, based on REMIND, pathway SSP2-PKBUDG500, for the year 2060.  |\n",
      "|  92 |  remind - SSP2-PkBudg500 - 2065 | Prospective db, based on REMIND, pathway SSP2-PKBUDG500, for the year 2065.  |\n",
      "|  93 |  remind - SSP2-PkBudg500 - 2070 | Prospective db, based on REMIND, pathway SSP2-PKBUDG500, for the year 2070.  |\n",
      "|  94 |  remind - SSP2-PkBudg500 - 2075 | Prospective db, based on REMIND, pathway SSP2-PKBUDG500, for the year 2075.  |\n",
      "|  95 |  remind - SSP2-PkBudg500 - 2080 | Prospective db, based on REMIND, pathway SSP2-PKBUDG500, for the year 2080.  |\n",
      "|  96 |  remind - SSP2-PkBudg500 - 2085 | Prospective db, based on REMIND, pathway SSP2-PKBUDG500, for the year 2085.  |\n",
      "|  97 |  remind - SSP2-PkBudg500 - 2090 | Prospective db, based on REMIND, pathway SSP2-PKBUDG500, for the year 2090.  |\n",
      "|  98 |  remind - SSP2-PkBudg500 - 2095 | Prospective db, based on REMIND, pathway SSP2-PKBUDG500, for the year 2095.  |\n",
      "|  99 |  remind - SSP2-PkBudg500 - 2100 | Prospective db, based on REMIND, pathway SSP2-PKBUDG500, for the year 2100.  |\n",
      "+-----+---------------------------------+------------------------------------------------------------------------------+\n",
      "\n",
      "To unfold all scenarios, `unfold()`.\n",
      "To unfold a specific scenario, `unfold(scenarios=[1,])`.\n"
     ]
    }
   ],
   "source": [
    "u = Unfold(\"/Users/romain/Downloads/premise_remind_ssp2_base.zip\")"
   ]
  },
  {
   "cell_type": "code",
   "execution_count": 19,
   "id": "ef9600a0-a822-400e-959d-f53205fe71c4",
   "metadata": {},
   "outputs": [
    {
     "name": "stdout",
     "output_type": "stream",
     "text": [
      "The following databases are necessary to unfold the scenarios:\n",
      "+-----+------------+--------------+---------+\n",
      "| No. | Dependency | System model | Version |\n",
      "+-----+------------+--------------+---------+\n",
      "|  1  | ecoinvent  |   cut-off    |   3.8   |\n",
      "|  2  | biosphere3 |              |         |\n",
      "+-----+------------+--------------+---------+\n",
      "\n",
      "The following databases are available in your project:\n",
      "+-----+----------------------------------------------------+\n",
      "| No. |                      Database                      |\n",
      "+-----+----------------------------------------------------+\n",
      "|  1  |                     biosphere3                     |\n",
      "|  2  |                ecoinvent 3.8 cutoff                |\n",
      "|  3  |                   carculator_lci                   |\n",
      "|  4  |                carculator_lci_truck                |\n",
      "|  5  |            carculator import20.11.2021             |\n",
      "|  6  |                 nuclear fuel chain                 |\n",
      "|  7  |                nuclear electricity                 |\n",
      "|  8  |              nuclear electricity SMR               |\n",
      "|  9  |                    wave_energy                     |\n",
      "|  10 |                      RTE_2020                      |\n",
      "|  11 |                      RTE_2030                      |\n",
      "|  12 |                      RTE_2040                      |\n",
      "|  13 |                      RTE_2050                      |\n",
      "|  14 |                    HDfuels_2035                    |\n",
      "|  15 |                HDfuels_2035_EU_only                |\n",
      "|  16 |                      carina_1                      |\n",
      "|  17 |              premise_remind_ssp2_base              |\n",
      "|  18 |                      amelie_1                      |\n",
      "|  19 |                      amelie_2                      |\n",
      "|  20 |                       841_db                       |\n",
      "|  21 |           ecoinvent_remind_SSP2-NPi_2005           |\n",
      "|  22 |           ecoinvent_remind_SSP2-NPi_2010           |\n",
      "|  23 |           ecoinvent_remind_SSP2-NPi_2020           |\n",
      "|  24 |           ecoinvent_remind_SSP2-NPi_2030           |\n",
      "|  25 |           ecoinvent_remind_SSP2-NPi_2040           |\n",
      "|  26 |           ecoinvent_remind_SSP2-NPi_2050           |\n",
      "|  27 |       ecoinvent_remind_SSP2-PkBudg1150_2030        |\n",
      "|  28 |       ecoinvent_remind_SSP2-PkBudg1150_2040        |\n",
      "|  29 |       ecoinvent_remind_SSP2-PkBudg1150_2050        |\n",
      "|  30 |        ecoinvent_remind_SSP2-PkBudg500_2030        |\n",
      "|  31 |        ecoinvent_remind_SSP2-PkBudg500_2040        |\n",
      "|  32 |        ecoinvent_remind_SSP2-PkBudg500_2050        |\n",
      "|  33 |                  Mobility example                  |\n",
      "|  34 |                      forwast                       |\n",
      "|  35 |                    Car db_ei_36                    |\n",
      "|  36 |                      metals1                       |\n",
      "|  37 |                 carculator_lci_car                 |\n",
      "|  38 |                     metals_ref                     |\n",
      "|  39 |                 direct air capture                 |\n",
      "|  40 |              image - SSP2-Base - 2030              |\n",
      "|  41 |             image - SSP2-RCP19 - 2030              |\n",
      "|  42 |                      test_dac                      |\n",
      "|  43 |                     test_dac2                      |\n",
      "|  44 |                 reference_database                 |\n",
      "|  45 |                        db A                        |\n",
      "|  46 |                        db B                        |\n",
      "|  47 |                        test                        |\n",
      "|  48 |            ecoinvent 3.8 consequential             |\n",
      "|  49 |   ecoinvent_consequential_image_SSP2-RCP26_2050    |\n",
      "|  50 |   ecoinvent_consequential_remind_SSP2-Base_2050    |\n",
      "|  51 |   ecoinvent_attributional_remind_SSP2-Base_2005    |\n",
      "|  52 | ecoinvent_attributional_remind_SSP2-PkBudg500_2100 |\n",
      "|  53 |   ecoinvent_attributional_image_SSP2-RCP26_2050    |\n",
      "|  54 |   ecoinvent_attributional_remind_SSP1-Base_2005    |\n",
      "|  55 |   ecoinvent_attributional_remind_SSP5-Base_2050    |\n",
      "|  56 |     ecoinvent_cutoff_3.8_image_SSP2-Base_2040      |\n",
      "|  57 |     ecoinvent_cutoff_3.8_image_SSP2-Base_2025      |\n",
      "|  58 |     ecoinvent_cutoff_3.8_image_SSP2-Base_2035      |\n",
      "|  59 |     ecoinvent_cutoff_3.8_image_SSP2-RCP26_2045     |\n",
      "|  60 |     ecoinvent_cutoff_3.8_image_SSP2-Base_2030      |\n",
      "|  61 |     ecoinvent_cutoff_3.8_image_SSP2-Base_2050      |\n",
      "|  62 |                super_db_2023-04-06                 |\n",
      "+-----+----------------------------------------------------+\n",
      "\n"
     ]
    },
    {
     "name": "stdin",
     "output_type": "stream",
     "text": [
      "Indicate the database number for dependency 1:  2\n",
      "Indicate the database number for dependency 2:  1\n"
     ]
    },
    {
     "name": "stdout",
     "output_type": "stream",
     "text": [
      "Getting activity data\n"
     ]
    },
    {
     "name": "stderr",
     "output_type": "stream",
     "text": [
      "100%|█████████████████████████████████| 19565/19565 [00:00<00:00, 174909.43it/s]\n"
     ]
    },
    {
     "name": "stdout",
     "output_type": "stream",
     "text": [
      "Adding exchange data to activities\n"
     ]
    },
    {
     "name": "stderr",
     "output_type": "stream",
     "text": [
      "100%|█████████████████████████████████| 629959/629959 [02:54<00:00, 3603.67it/s]\n"
     ]
    },
    {
     "name": "stdout",
     "output_type": "stream",
     "text": [
      "Filling out exchange data\n"
     ]
    },
    {
     "name": "stderr",
     "output_type": "stream",
     "text": [
      "100%|███████████████████████████████████| 19565/19565 [00:06<00:00, 3025.82it/s]\n"
     ]
    },
    {
     "name": "stdout",
     "output_type": "stream",
     "text": [
      "Getting activity data\n"
     ]
    },
    {
     "name": "stderr",
     "output_type": "stream",
     "text": [
      "100%|███████████████████████████████████| 4451/4451 [00:00<00:00, 260734.45it/s]\n"
     ]
    },
    {
     "name": "stdout",
     "output_type": "stream",
     "text": [
      "Adding exchange data to activities\n"
     ]
    },
    {
     "name": "stderr",
     "output_type": "stream",
     "text": [
      "0it [00:00, ?it/s]\n"
     ]
    },
    {
     "name": "stdout",
     "output_type": "stream",
     "text": [
      "Filling out exchange data\n"
     ]
    },
    {
     "name": "stderr",
     "output_type": "stream",
     "text": [
      "100%|██████████████████████████████████| 4451/4451 [00:00<00:00, 3756307.26it/s]\n"
     ]
    },
    {
     "name": "stdout",
     "output_type": "stream",
     "text": [
      "Extracting additional inventories...\n",
      "Generating database for scenario remind - SSP2-PkBudg500 - 2095...\n",
      "Generating database for scenario remind - SSP2-PkBudg500 - 2100...\n",
      "Writing database for scenario remind - SSP2-PkBudg500 - 2095...\n"
     ]
    },
    {
     "name": "stderr",
     "output_type": "stream",
     "text": [
      "Writing activities to SQLite3 database:\n",
      "0% [##############################] 100% | ETA: 00:00:00\n",
      "Total time elapsed: 00:02:03\n"
     ]
    },
    {
     "name": "stdout",
     "output_type": "stream",
     "text": [
      "Title: Writing activities to SQLite3 database:\n",
      "  Started: 04/06/2023 14:50:46\n",
      "  Finished: 04/06/2023 14:52:50\n",
      "  Total time elapsed: 00:02:03\n",
      "  CPU %: 70.40\n",
      "  Memory %: 22.81\n",
      "Created database: remind - SSP2-PkBudg500 - 2095\n",
      "Writing database for scenario remind - SSP2-PkBudg500 - 2100...\n"
     ]
    },
    {
     "name": "stderr",
     "output_type": "stream",
     "text": [
      "Writing activities to SQLite3 database:\n",
      "0% [##############################] 100% | ETA: 00:00:00\n",
      "Total time elapsed: 00:02:06\n"
     ]
    },
    {
     "name": "stdout",
     "output_type": "stream",
     "text": [
      "Title: Writing activities to SQLite3 database:\n",
      "  Started: 04/06/2023 14:56:45\n",
      "  Finished: 04/06/2023 14:58:52\n",
      "  Total time elapsed: 00:02:06\n",
      "  CPU %: 72.20\n",
      "  Memory %: 20.82\n",
      "Created database: remind - SSP2-PkBudg500 - 2100\n"
     ]
    }
   ],
   "source": [
    "u.unfold(scenarios=[98, 99])"
   ]
  },
  {
   "cell_type": "code",
   "execution_count": 20,
   "id": "50319a49-4be1-4575-aa8c-9c4997331931",
   "metadata": {},
   "outputs": [],
   "source": [
    "from unfold import Fold"
   ]
  },
  {
   "cell_type": "code",
   "execution_count": 21,
   "id": "5f85ab4c-8446-4357-a305-c3de85eee041",
   "metadata": {},
   "outputs": [],
   "source": [
    "f = Fold()"
   ]
  },
  {
   "cell_type": "code",
   "execution_count": null,
   "id": "40ce2288-3aeb-4efb-9f5b-8f5401e9df4f",
   "metadata": {},
   "outputs": [
    {
     "name": "stdin",
     "output_type": "stream",
     "text": [
      "Give a name for this datapackage:  test\n",
      "Give a short description for this datapackage:  this is a test\n"
     ]
    },
    {
     "name": "stdout",
     "output_type": "stream",
     "text": [
      "The following databases are available in your project:\n",
      "+-----+----------------------------------------------------+\n",
      "| No. |                      Database                      |\n",
      "+-----+----------------------------------------------------+\n",
      "|  1  |                     biosphere3                     |\n",
      "|  2  |                ecoinvent 3.8 cutoff                |\n",
      "|  3  |                   carculator_lci                   |\n",
      "|  4  |                carculator_lci_truck                |\n",
      "|  5  |            carculator import20.11.2021             |\n",
      "|  6  |                 nuclear fuel chain                 |\n",
      "|  7  |                nuclear electricity                 |\n",
      "|  8  |              nuclear electricity SMR               |\n",
      "|  9  |                    wave_energy                     |\n",
      "|  10 |                      RTE_2020                      |\n",
      "|  11 |                      RTE_2030                      |\n",
      "|  12 |                      RTE_2040                      |\n",
      "|  13 |                      RTE_2050                      |\n",
      "|  14 |                    HDfuels_2035                    |\n",
      "|  15 |                HDfuels_2035_EU_only                |\n",
      "|  16 |                      carina_1                      |\n",
      "|  17 |              premise_remind_ssp2_base              |\n",
      "|  18 |                      amelie_1                      |\n",
      "|  19 |                      amelie_2                      |\n",
      "|  20 |                       841_db                       |\n",
      "|  21 |           ecoinvent_remind_SSP2-NPi_2005           |\n",
      "|  22 |           ecoinvent_remind_SSP2-NPi_2010           |\n",
      "|  23 |           ecoinvent_remind_SSP2-NPi_2020           |\n",
      "|  24 |           ecoinvent_remind_SSP2-NPi_2030           |\n",
      "|  25 |           ecoinvent_remind_SSP2-NPi_2040           |\n",
      "|  26 |           ecoinvent_remind_SSP2-NPi_2050           |\n",
      "|  27 |       ecoinvent_remind_SSP2-PkBudg1150_2030        |\n",
      "|  28 |       ecoinvent_remind_SSP2-PkBudg1150_2040        |\n",
      "|  29 |       ecoinvent_remind_SSP2-PkBudg1150_2050        |\n",
      "|  30 |        ecoinvent_remind_SSP2-PkBudg500_2030        |\n",
      "|  31 |        ecoinvent_remind_SSP2-PkBudg500_2040        |\n",
      "|  32 |        ecoinvent_remind_SSP2-PkBudg500_2050        |\n",
      "|  33 |                  Mobility example                  |\n",
      "|  34 |                      forwast                       |\n",
      "|  35 |                    Car db_ei_36                    |\n",
      "|  36 |                      metals1                       |\n",
      "|  37 |                 carculator_lci_car                 |\n",
      "|  38 |                     metals_ref                     |\n",
      "|  39 |                 direct air capture                 |\n",
      "|  40 |              image - SSP2-Base - 2030              |\n",
      "|  41 |             image - SSP2-RCP19 - 2030              |\n",
      "|  42 |                      test_dac                      |\n",
      "|  43 |                     test_dac2                      |\n",
      "|  44 |                 reference_database                 |\n",
      "|  45 |                        db A                        |\n",
      "|  46 |                        db B                        |\n",
      "|  47 |                        test                        |\n",
      "|  48 |            ecoinvent 3.8 consequential             |\n",
      "|  49 |   ecoinvent_consequential_image_SSP2-RCP26_2050    |\n",
      "|  50 |   ecoinvent_consequential_remind_SSP2-Base_2050    |\n",
      "|  51 |   ecoinvent_attributional_remind_SSP2-Base_2005    |\n",
      "|  52 | ecoinvent_attributional_remind_SSP2-PkBudg500_2100 |\n",
      "|  53 |   ecoinvent_attributional_image_SSP2-RCP26_2050    |\n",
      "|  54 |   ecoinvent_attributional_remind_SSP1-Base_2005    |\n",
      "|  55 |   ecoinvent_attributional_remind_SSP5-Base_2050    |\n",
      "|  56 |     ecoinvent_cutoff_3.8_image_SSP2-Base_2040      |\n",
      "|  57 |     ecoinvent_cutoff_3.8_image_SSP2-Base_2025      |\n",
      "|  58 |     ecoinvent_cutoff_3.8_image_SSP2-Base_2035      |\n",
      "|  59 |     ecoinvent_cutoff_3.8_image_SSP2-RCP26_2045     |\n",
      "|  60 |     ecoinvent_cutoff_3.8_image_SSP2-Base_2030      |\n",
      "|  61 |     ecoinvent_cutoff_3.8_image_SSP2-Base_2050      |\n",
      "|  62 |                super_db_2023-04-06                 |\n",
      "|  63 |           remind - SSP2-PkBudg500 - 2095           |\n",
      "|  64 |           remind - SSP2-PkBudg500 - 2100           |\n",
      "+-----+----------------------------------------------------+\n",
      "\n"
     ]
    },
    {
     "name": "stdin",
     "output_type": "stream",
     "text": [
      "Indicate the no. of the reference database:  2\n",
      "Indicate the system model of ecoinvent 3.8 cutoff:  cutoff\n",
      "Indicate the version of ecoinvent 3.8 cutoff:  3.8\n",
      "Indicate the no. of the databases you would like to fold, separated by a comma:  56, 57\n",
      "Give a short description for ecoinvent_cutoff_3.8_image_SSP2-Base_2040:  awefdas<\n",
      "Give a short description for ecoinvent_cutoff_3.8_image_SSP2-Base_2025:  qwrfea\n"
     ]
    },
    {
     "name": "stdout",
     "output_type": "stream",
     "text": [
      "Extracting source database...\n"
     ]
    }
   ],
   "source": [
    "f.fold()"
   ]
  },
  {
   "cell_type": "code",
   "execution_count": 2,
   "id": "4a8ef61c-ebc8-448e-9e40-a3208baf1fbb",
   "metadata": {},
   "outputs": [],
   "source": [
    "import premise"
   ]
  },
  {
   "cell_type": "code",
   "execution_count": 3,
   "id": "77af0626-4bf5-438c-a03d-a824a71f9239",
   "metadata": {},
   "outputs": [
    {
     "data": {
      "text/plain": [
       "'/Users/romain/GitHub/premise/premise/__init__.py'"
      ]
     },
     "execution_count": 3,
     "metadata": {},
     "output_type": "execute_result"
    }
   ],
   "source": [
    "premise.__file__"
   ]
  },
  {
   "cell_type": "code",
   "execution_count": 4,
   "id": "36de7eec-9942-41b4-905f-ac5414390961",
   "metadata": {},
   "outputs": [],
   "source": [
    "from premise import clear_cache"
   ]
  },
  {
   "cell_type": "code",
   "execution_count": 5,
   "id": "5b103fd9-a6a1-435b-afb7-7f34ef51df79",
   "metadata": {},
   "outputs": [
    {
     "name": "stdout",
     "output_type": "stream",
     "text": [
      "Cache folder cleared!\n"
     ]
    }
   ],
   "source": [
    "clear_cache()"
   ]
  },
  {
   "cell_type": "code",
   "execution_count": null,
   "id": "590becff-78e5-4c73-8571-56fd147ddd2b",
   "metadata": {},
   "outputs": [],
   "source": []
  }
 ],
 "metadata": {
  "kernelspec": {
   "display_name": "Python 3 (ipykernel)",
   "language": "python",
   "name": "python3"
  },
  "language_info": {
   "codemirror_mode": {
    "name": "ipython",
    "version": 3
   },
   "file_extension": ".py",
   "mimetype": "text/x-python",
   "name": "python",
   "nbconvert_exporter": "python",
   "pygments_lexer": "ipython3",
   "version": "3.11.8"
  }
 },
 "nbformat": 4,
 "nbformat_minor": 5
}
